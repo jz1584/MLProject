{
 "metadata": {
  "name": "",
  "signature": "sha256:9707b3dae4b0111791a799cd7b28848b8adc6163e0970232ee8da7c55c2dbae8"
 },
 "nbformat": 3,
 "nbformat_minor": 0,
 "worksheets": [
  {
   "cells": [
    {
     "cell_type": "code",
     "collapsed": false,
     "input": [
      "import matplotlib.pyplot as plt\n",
      "%matplotlib inline"
     ],
     "language": "python",
     "metadata": {},
     "outputs": []
    },
    {
     "cell_type": "heading",
     "level": 3,
     "metadata": {},
     "source": [
      "Data rate 0.04"
     ]
    },
    {
     "cell_type": "code",
     "collapsed": false,
     "input": [
      "%run yelp.py"
     ],
     "language": "python",
     "metadata": {},
     "outputs": [],
     "prompt_number": 71
    },
    {
     "cell_type": "code",
     "collapsed": false,
     "input": [
      "rec = {};\n",
      "rec['selectRate'] = .04\n",
      "rec['wordDim'] = 2000\n",
      "rec['dataDistr'] = [.85, .0, .15]\n",
      "yelp = Yelp(rec);\n",
      "trainLs, validLs, testLs = yelp.pipeline();\n",
      "rec = yelp.rec;\n",
      "\n",
      "print rec"
     ],
     "language": "python",
     "metadata": {},
     "outputs": [
      {
       "output_type": "stream",
       "stream": "stdout",
       "text": [
        "group_data() spend 0.0174942016602 to process 22287 data\n",
        "devide_data() spend 0.000481128692627\n",
        "{'dataDistr': [0.85, 0.0, 0.15], 'selectRate': 0.04, 'wordDim': 2000, 'process_time': 180.4216799736023, 'dic_to_vec_time': 12.324597120285034, 'group_data_time': 0.017451047897338867, 'devide_data_time': 0.0005049705505371094, 'validNum': 0, 'trainNum': 18943, 'hasVotes': True, 'load_time': 56.77707815170288, 'testNum': 3344}"
       ]
      },
      {
       "output_type": "stream",
       "stream": "stdout",
       "text": [
        "\n"
       ]
      }
     ],
     "prompt_number": 28
    },
    {
     "cell_type": "code",
     "collapsed": false,
     "input": [
      "testDecisionTree(trainLs, testLs, rec)"
     ],
     "language": "python",
     "metadata": {},
     "outputs": [
      {
       "output_type": "stream",
       "stream": "stdout",
       "text": [
        "MLType decision tree\n",
        "trainTime 41.3186380863\n",
        "trainClassRate:"
       ]
      },
      {
       "output_type": "stream",
       "stream": "stdout",
       "text": [
        " 0.648207781238\n",
        "trainAccuracy: 0.999841630154\n",
        "testClassRate: 0.648325358852\n",
        "testAccuracy: 0.708433014354\n"
       ]
      }
     ],
     "prompt_number": 29
    },
    {
     "cell_type": "code",
     "collapsed": false,
     "input": [
      "testRandomForest(trainLs, testLs, rec)"
     ],
     "language": "python",
     "metadata": {},
     "outputs": [
      {
       "output_type": "stream",
       "stream": "stdout",
       "text": [
        "MLType random forest\n",
        "trainTime 52.5006020069\n",
        "trainClassRate:"
       ]
      },
      {
       "output_type": "stream",
       "stream": "stdout",
       "text": [
        " 0.648207781238\n",
        "trainAccuracy: 0.999841630154\n",
        "testClassRate: 0.648325358852\n",
        "testAccuracy: 0.834629186603\n"
       ]
      }
     ],
     "prompt_number": 30
    },
    {
     "cell_type": "code",
     "collapsed": false,
     "input": [
      "testSVM(trainLs, testLs, rec)"
     ],
     "language": "python",
     "metadata": {},
     "outputs": [
      {
       "output_type": "stream",
       "stream": "stdout",
       "text": [
        "MLType svm\n",
        "trainTime 585.426215887\n",
        "trainClassRate:"
       ]
      },
      {
       "output_type": "stream",
       "stream": "stdout",
       "text": [
        " 0.648207781238\n",
        "trainAccuracy: 0.805416248746\n",
        "testClassRate: 0.648325358852\n",
        "testAccuracy: 0.804425837321\n"
       ]
      }
     ],
     "prompt_number": 37
    },
    {
     "cell_type": "code",
     "collapsed": false,
     "input": [
      "testLogisticRegression(trainLs, testLs, rec)"
     ],
     "language": "python",
     "metadata": {},
     "outputs": [
      {
       "output_type": "stream",
       "stream": "stdout",
       "text": [
        "MLType logistic regression\n",
        "trainTime 0.876129865646\n",
        "trainClassRate:"
       ]
      },
      {
       "output_type": "stream",
       "stream": "stdout",
       "text": [
        " 0.648207781238\n",
        "trainAccuracy: 0.888560418096\n",
        "testClassRate: 0.648325358852\n",
        "testAccuracy: 0.838217703349\n"
       ]
      }
     ],
     "prompt_number": 34
    },
    {
     "cell_type": "code",
     "collapsed": false,
     "input": [
      "testKNN(trainLs, testLs, rec)"
     ],
     "language": "python",
     "metadata": {},
     "outputs": [
      {
       "output_type": "stream",
       "stream": "stdout",
       "text": [
        "MLType knn\n",
        "trainTime 6.44628500938\n",
        "trainClassRate:"
       ]
      },
      {
       "output_type": "stream",
       "stream": "stdout",
       "text": [
        " 0.648207781238\n",
        "trainAccuracy: 0.785408858153\n",
        "testClassRate: 0.648325358852\n",
        "testAccuracy: 0.664174641148\n"
       ]
      }
     ],
     "prompt_number": 39
    },
    {
     "cell_type": "code",
     "collapsed": false,
     "input": [
      "testLinearRegression(trainLs, testLs, rec)"
     ],
     "language": "python",
     "metadata": {},
     "outputs": [
      {
       "output_type": "stream",
       "stream": "stdout",
       "text": [
        "MLType linear regression\n",
        "trainTime 151.564337969\n",
        "trainClassRate:"
       ]
      },
      {
       "output_type": "stream",
       "stream": "stdout",
       "text": [
        " 0.648207781238\n",
        "trainAccuracy: 0.0\n",
        "testClassRate: 0.648325358852\n",
        "testAccuracy: 0.0\n"
       ]
      }
     ],
     "prompt_number": 42
    },
    {
     "cell_type": "code",
     "collapsed": false,
     "input": [
      "testAdaBoost(trainLs, testLs, rec)"
     ],
     "language": "python",
     "metadata": {},
     "outputs": [
      {
       "output_type": "stream",
       "stream": "stdout",
       "text": [
        "MLType ada boost\n",
        "trainTime 996.796463966\n",
        "trainClassRate:"
       ]
      },
      {
       "output_type": "stream",
       "stream": "stdout",
       "text": [
        " 0.648207781238\n",
        "trainAccuracy: 0.999841630154\n",
        "testClassRate: 0.648325358852\n",
        "testAccuracy: 0.736842105263\n"
       ]
      }
     ],
     "prompt_number": 49
    },
    {
     "cell_type": "heading",
     "level": 3,
     "metadata": {},
     "source": [
      "Try TFIDF with stopword removing"
     ]
    },
    {
     "cell_type": "code",
     "collapsed": false,
     "input": [
      "%run yelp.py"
     ],
     "language": "python",
     "metadata": {},
     "outputs": [],
     "prompt_number": 1
    },
    {
     "cell_type": "code",
     "collapsed": false,
     "input": [
      "rec = {};\n",
      "rec['selectRate'] = .04\n",
      "rec['wordDim'] = 2000\n",
      "rec['dataDistr'] = [.85, .0, .15]\n",
      "yelp = Yelp(rec);\n",
      "trainLs, validLs, testLs = yelp.pipeline(tfidf = True)\n",
      "rec = yelp.rec;\n",
      "\n",
      "print rec"
     ],
     "language": "python",
     "metadata": {},
     "outputs": [
      {
       "output_type": "stream",
       "stream": "stdout",
       "text": [
        "group_data() spend 0.0196449756622 to process 22287 data\n",
        "devide_data() spend 0.000503063201904\n",
        "{'dataDistr': [0.85, 0.0, 0.15], 'selectRate': 0.04, 'wordDim': 2000, 'process_time': 182.85252404212952, 'group_data_time': 0.01959395408630371, 'tfidf': True, 'devide_data_time': 0.0005269050598144531, 'validNum': 0, 'dic_to_tfidf_vec_time': 3.185744047164917, 'trainNum': 18943, 'hasVotes': True, 'load_time': 54.60091519355774, 'testNum': 3344}"
       ]
      },
      {
       "output_type": "stream",
       "stream": "stdout",
       "text": [
        "\n"
       ]
      }
     ],
     "prompt_number": 2
    },
    {
     "cell_type": "code",
     "collapsed": false,
     "input": [
      "testDecisionTree(trainLs, testLs, rec)"
     ],
     "language": "python",
     "metadata": {},
     "outputs": [
      {
       "output_type": "stream",
       "stream": "stdout",
       "text": [
        "MLType decision tree\n",
        "trainTime 45.8618421555\n",
        "trainClassRate:"
       ]
      },
      {
       "output_type": "stream",
       "stream": "stdout",
       "text": [
        " 0.644934804413\n",
        "trainAccuracy: 0.999947210051\n",
        "testClassRate: 0.644736842105\n",
        "testAccuracy: 0.704545454545\n"
       ]
      }
     ],
     "prompt_number": 3
    },
    {
     "cell_type": "code",
     "collapsed": false,
     "input": [
      "testRandomForest(trainLs, testLs, rec)"
     ],
     "language": "python",
     "metadata": {},
     "outputs": [
      {
       "output_type": "stream",
       "stream": "stdout",
       "text": [
        "MLType random forest\n",
        "trainTime 63.5600810051\n",
        "trainClassRate:"
       ]
      },
      {
       "output_type": "stream",
       "stream": "stdout",
       "text": [
        " 0.644934804413\n",
        "trainAccuracy: 0.999947210051\n",
        "testClassRate: 0.644736842105\n",
        "testAccuracy: 0.820275119617\n"
       ]
      }
     ],
     "prompt_number": 4
    },
    {
     "cell_type": "code",
     "collapsed": false,
     "input": [
      "testLogisticRegression(trainLs, testLs, rec)"
     ],
     "language": "python",
     "metadata": {},
     "outputs": [
      {
       "output_type": "stream",
       "stream": "stdout",
       "text": [
        "MLType logistic regression\n",
        "trainTime 0.52025103569\n",
        "trainClassRate:"
       ]
      },
      {
       "output_type": "stream",
       "stream": "stdout",
       "text": [
        " 0.645145964208\n",
        "trainAccuracy: 0.848281687167\n",
        "testClassRate: 0.645035885167\n",
        "testAccuracy: 0.830442583732\n"
       ]
      }
     ],
     "prompt_number": 5
    },
    {
     "cell_type": "heading",
     "level": 3,
     "metadata": {},
     "source": [
      "Try TFIDF WITHOUT stopword removing"
     ]
    },
    {
     "cell_type": "code",
     "collapsed": false,
     "input": [
      "%run yelp.py"
     ],
     "language": "python",
     "metadata": {},
     "outputs": [],
     "prompt_number": 2
    },
    {
     "cell_type": "code",
     "collapsed": false,
     "input": [
      "rec = {};\n",
      "rec['selectRate'] = .04\n",
      "rec['wordDim'] = 2000\n",
      "rec['dataDistr'] = [.85, .0, .15]\n",
      "yelp = Yelp(rec);\n",
      "trainLs, validLs, testLs = yelp.pipeline(tfidf = True, stopWord = False)\n",
      "rec = yelp.rec;\n",
      "\n",
      "print rec"
     ],
     "language": "python",
     "metadata": {},
     "outputs": [
      {
       "output_type": "stream",
       "stream": "stdout",
       "text": [
        "group_data() spend 0.0183320045471 to process 22287 data\n",
        "devide_data() spend 0.000511169433594\n",
        "{'stopWord': False, 'dataDistr': [0.85, 0.0, 0.15], 'selectRate': 0.04, 'wordDim': 2000, 'process_time': 173.4458589553833, 'group_data_time': 0.018280029296875, 'tfidf': True, 'devide_data_time': 0.0005359649658203125, 'validNum': 0, 'dic_to_tfidf_vec_time': 4.6791510581970215, 'trainNum': 18943, 'hasVotes': True, 'load_time': 55.364279985427856, 'testNum': 3344}"
       ]
      },
      {
       "output_type": "stream",
       "stream": "stdout",
       "text": [
        "\n"
       ]
      }
     ],
     "prompt_number": 3
    },
    {
     "cell_type": "code",
     "collapsed": false,
     "input": [
      "testDecisionTree(trainLs, testLs, rec)"
     ],
     "language": "python",
     "metadata": {},
     "outputs": [
      {
       "output_type": "stream",
       "stream": "stdout",
       "text": [
        "MLType decision tree\n",
        "trainTime 30.9749419689\n",
        "trainClassRate:"
       ]
      },
      {
       "output_type": "stream",
       "stream": "stdout",
       "text": [
        " 0.646993612416\n",
        "trainAccuracy: 1.0\n",
        "testClassRate: 0.646830143541\n",
        "testAccuracy: 0.69706937799\n"
       ]
      }
     ],
     "prompt_number": 4
    },
    {
     "cell_type": "code",
     "collapsed": false,
     "input": [
      "testRandomForest(trainLs, testLs, rec)"
     ],
     "language": "python",
     "metadata": {},
     "outputs": [
      {
       "output_type": "stream",
       "stream": "stdout",
       "text": [
        "MLType random forest\n",
        "trainTime 48.6197719574\n",
        "trainClassRate:"
       ]
      },
      {
       "output_type": "stream",
       "stream": "stdout",
       "text": [
        " 0.646993612416\n",
        "trainAccuracy: 1.0\n",
        "testClassRate: 0.646830143541\n",
        "testAccuracy: 0.817583732057\n"
       ]
      }
     ],
     "prompt_number": 5
    },
    {
     "cell_type": "code",
     "collapsed": false,
     "input": [
      "testLogisticRegression(trainLs, testLs, rec)"
     ],
     "language": "python",
     "metadata": {},
     "outputs": [
      {
       "output_type": "stream",
       "stream": "stdout",
       "text": [
        "MLType logistic regression\n",
        "trainTime 0.53470492363\n",
        "trainClassRate:"
       ]
      },
      {
       "output_type": "stream",
       "stream": "stdout",
       "text": [
        " 0.646993612416\n",
        "trainAccuracy: 0.790899012828\n",
        "testClassRate: 0.646830143541\n",
        "testAccuracy: 0.782894736842\n"
       ]
      }
     ],
     "prompt_number": 6
    },
    {
     "cell_type": "heading",
     "level": 3,
     "metadata": {},
     "source": [
      "Data rate 0.08"
     ]
    },
    {
     "cell_type": "code",
     "collapsed": false,
     "input": [
      "%run yelp.py"
     ],
     "language": "python",
     "metadata": {},
     "outputs": [],
     "prompt_number": 6
    },
    {
     "cell_type": "code",
     "collapsed": false,
     "input": [
      "rec = {};\n",
      "rec['selectRate'] = .08\n",
      "rec['wordDim'] = 2000\n",
      "rec['dataDistr'] = [.85, .0, .15]\n",
      "yelp = Yelp(rec);\n",
      "trainLs, validLs, testLs = yelp.pipeline();\n",
      "rec = yelp.rec;\n",
      "\n",
      "print rec"
     ],
     "language": "python",
     "metadata": {},
     "outputs": [
      {
       "output_type": "stream",
       "stream": "stdout",
       "text": [
        "group_data() spend 0.0399680137634 to process 44574 data\n",
        "devide_data() spend 0.00217509269714\n",
        "{'dataDistr': [0.85, 0.0, 0.15], 'selectRate': 0.08, 'wordDim': 2000, 'process_time': 345.56597995758057, 'dic_to_vec_time': 3.5982120037078857, 'group_data_time': 0.03989100456237793, 'devide_data_time': 0.0022041797637939453, 'validNum': 0, 'trainNum': 37887, 'hasVotes': True, 'load_time': 54.89324712753296, 'testNum': 6687}"
       ]
      },
      {
       "output_type": "stream",
       "stream": "stdout",
       "text": [
        "\n"
       ]
      }
     ],
     "prompt_number": 2
    },
    {
     "cell_type": "code",
     "collapsed": false,
     "input": [
      "testDecisionTree(trainLs, testLs, rec)"
     ],
     "language": "python",
     "metadata": {},
     "outputs": [
      {
       "output_type": "stream",
       "stream": "stdout",
       "text": [
        "MLType decision tree\n",
        "trainTime 100.973232031\n",
        "trainClassRate:"
       ]
      },
      {
       "output_type": "stream",
       "stream": "stdout",
       "text": [
        " 0.648744952094\n",
        "trainAccuracy: 0.999973605722\n",
        "testClassRate: 0.648721399731\n",
        "testAccuracy: 0.70405263945\n"
       ]
      }
     ],
     "prompt_number": 3
    },
    {
     "cell_type": "code",
     "collapsed": false,
     "input": [
      "#n_estimators = 100\n",
      "testRandomForest(trainLs, testLs, rec)"
     ],
     "language": "python",
     "metadata": {},
     "outputs": [
      {
       "output_type": "stream",
       "stream": "stdout",
       "text": [
        "MLType random forest\n",
        "trainTime 138.143651962\n",
        "trainClassRate:"
       ]
      },
      {
       "output_type": "stream",
       "stream": "stdout",
       "text": [
        " 0.648744952094\n",
        "trainAccuracy: 0.999973605722\n",
        "testClassRate: 0.648721399731\n",
        "testAccuracy: 0.818752803948\n"
       ]
      }
     ],
     "prompt_number": 4
    },
    {
     "cell_type": "code",
     "collapsed": false,
     "input": [
      "testLogisticRegression(trainLs, testLs, rec)"
     ],
     "language": "python",
     "metadata": {},
     "outputs": [
      {
       "output_type": "stream",
       "stream": "stdout",
       "text": [
        "MLType logistic regression\n",
        "trainTime 2.06509685516\n",
        "trainClassRate:"
       ]
      },
      {
       "output_type": "stream",
       "stream": "stdout",
       "text": [
        " 0.648744952094\n",
        "trainAccuracy: 0.873650592552\n",
        "testClassRate: 0.648721399731\n",
        "testAccuracy: 0.842978914311\n"
       ]
      }
     ],
     "prompt_number": 5
    },
    {
     "cell_type": "code",
     "collapsed": false,
     "input": [
      "#n_estimators = 200\n",
      "testRandomForest(trainLs, testLs, rec)"
     ],
     "language": "python",
     "metadata": {},
     "outputs": [
      {
       "output_type": "stream",
       "stream": "stdout",
       "text": [
        "MLType random forest\n",
        "trainTime 277.368056059\n",
        "trainClassRate:"
       ]
      },
      {
       "output_type": "stream",
       "stream": "stdout",
       "text": [
        " 0.648744952094\n",
        "trainAccuracy: 0.999973605722\n",
        "testClassRate: 0.648721399731\n",
        "testAccuracy: 0.822192313444\n"
       ]
      }
     ],
     "prompt_number": 7
    },
    {
     "cell_type": "heading",
     "level": 3,
     "metadata": {},
     "source": [
      "Data rate 0.04 Feature length 4000"
     ]
    },
    {
     "cell_type": "code",
     "collapsed": false,
     "input": [
      "%run yelp.py"
     ],
     "language": "python",
     "metadata": {},
     "outputs": [],
     "prompt_number": 13
    },
    {
     "cell_type": "code",
     "collapsed": false,
     "input": [
      "rec = {};\n",
      "rec['selectRate'] = .04\n",
      "rec['wordDim'] = 4000\n",
      "rec['dataDistr'] = [.85, .0, .15]\n",
      "yelp = Yelp(rec);\n",
      "trainLs, validLs, testLs = yelp.pipeline();\n",
      "rec = yelp.rec;\n",
      "\n",
      "print rec"
     ],
     "language": "python",
     "metadata": {},
     "outputs": [
      {
       "output_type": "stream",
       "stream": "stdout",
       "text": [
        "group_data() spend 0.0413219928741 to process 22287 data\n",
        "devide_data() spend 0.00875496864319\n",
        "{'dataDistr': [0.85, 0.0, 0.15], 'selectRate': 0.04, 'wordDim': 4000, 'process_time': 172.09690499305725, 'dic_to_vec_time': 2.386988878250122, 'group_data_time': 0.04018521308898926, 'devide_data_time': 0.008786916732788086, 'validNum': 0, 'trainNum': 18943, 'hasVotes': True, 'load_time': 56.63936686515808, 'testNum': 3344}"
       ]
      },
      {
       "output_type": "stream",
       "stream": "stdout",
       "text": [
        "\n"
       ]
      }
     ],
     "prompt_number": 10
    },
    {
     "cell_type": "code",
     "collapsed": false,
     "input": [
      "testLogisticRegression(trainLs, testLs, rec)"
     ],
     "language": "python",
     "metadata": {},
     "outputs": [
      {
       "output_type": "stream",
       "stream": "stdout",
       "text": [
        "MLType logistic regression\n",
        "trainTime 1.69438004494\n",
        "trainClassRate:"
       ]
      },
      {
       "output_type": "stream",
       "stream": "stdout",
       "text": [
        " 0.647099192314\n",
        "trainAccuracy: 0.910573826743\n",
        "testClassRate: 0.647129186603\n",
        "testAccuracy: 0.843899521531\n"
       ]
      }
     ],
     "prompt_number": 11
    },
    {
     "cell_type": "code",
     "collapsed": false,
     "input": [
      "TestLogic_Reg(trainLs, testLs, rec, penalty='l1')"
     ],
     "language": "python",
     "metadata": {},
     "outputs": [
      {
       "output_type": "stream",
       "stream": "stdout",
       "text": [
        "trainClassRate: 0.647099192314\n",
        "trainAccuracy: 0.352900807686\n",
        "testClassRate: 0.647129186603\n",
        "testAccuracy: 0.352870813397\n",
        "Lambda: 0.0001\n",
        "Train error rate: 0.647099192314\n",
        "Test error rate: 0.647129186603\n",
        "Run time: 1.25831794739\n",
        "\n",
        "\n",
        "trainClassRate:"
       ]
      },
      {
       "output_type": "stream",
       "stream": "stdout",
       "text": [
        " 0.647099192314\n",
        "trainAccuracy: 0.647099192314\n",
        "testClassRate: 0.647129186603\n",
        "testAccuracy: 0.647129186603\n",
        "Lambda: 0.001\n",
        "Train error rate: 0.352900807686\n",
        "Test error rate: 0.352870813397\n",
        "Run time: 1.23868608475\n",
        "\n",
        "\n",
        "trainClassRate:"
       ]
      },
      {
       "output_type": "stream",
       "stream": "stdout",
       "text": [
        " 0.647099192314\n",
        "trainAccuracy: 0.793380140421\n",
        "testClassRate: 0.647129186603\n",
        "testAccuracy: 0.802033492823\n",
        "Lambda: 0.01\n",
        "Train error rate: 0.206619859579\n",
        "Test error rate: 0.197966507177\n",
        "Run time: 1.29968690872\n",
        "\n",
        "\n",
        "trainClassRate:"
       ]
      },
      {
       "output_type": "stream",
       "stream": "stdout",
       "text": [
        " 0.647099192314\n",
        "trainAccuracy: 0.863432402471\n",
        "testClassRate: 0.647129186603\n",
        "testAccuracy: 0.853767942584\n",
        "Lambda: 0.1\n",
        "Train error rate: 0.136567597529\n",
        "Test error rate: 0.146232057416\n",
        "Run time: 1.43340706825\n",
        "\n",
        "\n",
        "trainClassRate:"
       ]
      },
      {
       "output_type": "stream",
       "stream": "stdout",
       "text": [
        " 0.647099192314\n",
        "trainAccuracy: 0.92514385261\n",
        "testClassRate: 0.647129186603\n",
        "testAccuracy: 0.833732057416\n",
        "Lambda: 1\n",
        "Train error rate: 0.0748561473895\n",
        "Test error rate: 0.166267942584\n",
        "Run time: 1.75915384293\n",
        "\n",
        "\n",
        "trainClassRate:"
       ]
      },
      {
       "output_type": "stream",
       "stream": "stdout",
       "text": [
        " 0.647099192314\n",
        "trainAccuracy: 0.947685160745\n",
        "testClassRate: 0.647129186603\n",
        "testAccuracy: 0.801435406699\n",
        "Lambda: 10\n",
        "Train error rate: 0.0523148392546\n",
        "Test error rate: 0.198564593301\n",
        "Run time: 2.93853616714\n",
        "\n",
        "\n",
        "trainClassRate:"
       ]
      },
      {
       "output_type": "stream",
       "stream": "stdout",
       "text": [
        " 0.647099192314\n",
        "trainAccuracy: 0.952172306393\n",
        "testClassRate: 0.647129186603\n",
        "testAccuracy: 0.793660287081\n",
        "Lambda: 100\n",
        "Train error rate: 0.0478276936071\n",
        "Test error rate: 0.206339712919\n",
        "Run time: 4.81246805191\n",
        "\n",
        "\n",
        "trainClassRate:"
       ]
      },
      {
       "output_type": "stream",
       "stream": "stdout",
       "text": [
        " 0.647099192314\n",
        "trainAccuracy: 0.952964155625\n",
        "testClassRate: 0.647129186603\n",
        "testAccuracy: 0.792464114833\n",
        "Lambda: 1000\n",
        "Train error rate: 0.0470358443752\n",
        "Test error rate: 0.207535885167\n",
        "Run time: 5.25349807739\n",
        "\n",
        "\n",
        "trainClassRate:"
       ]
      },
      {
       "output_type": "stream",
       "stream": "stdout",
       "text": [
        " 0.647099192314\n",
        "trainAccuracy: 0.952964155625\n",
        "testClassRate: 0.647129186603\n",
        "testAccuracy: 0.79216507177\n",
        "Lambda: 10000\n",
        "Train error rate: 0.0470358443752\n",
        "Test error rate: 0.20783492823\n",
        "Run time: 4.98162198067\n",
        "\n",
        "\n",
        "trainClassRate:"
       ]
      },
      {
       "output_type": "stream",
       "stream": "stdout",
       "text": [
        " 0.647099192314\n",
        "trainAccuracy: 0.952911365676\n",
        "testClassRate: 0.647129186603\n",
        "testAccuracy: 0.79216507177\n",
        "Lambda: 100000\n",
        "Train error rate: 0.047088634324\n",
        "Test error rate: 0.20783492823\n",
        "Run time: 5.21435308456\n",
        "\n",
        "\n"
       ]
      },
      {
       "metadata": {},
       "output_type": "display_data",
       "png": "[encoded data removed]",
       "text": [
        "<matplotlib.figure.Figure at 0x1344a6f50>"
       ]
      }
     ],
     "prompt_number": 16
    },
    {
     "cell_type": "code",
     "collapsed": false,
     "input": [
      "testRandomForest(trainLs, testLs, rec)"
     ],
     "language": "python",
     "metadata": {},
     "outputs": [
      {
       "output_type": "stream",
       "stream": "stdout",
       "text": [
        "MLType random forest\n",
        "trainTime 186.724596024\n",
        "trainClassRate:"
       ]
      },
      {
       "output_type": "stream",
       "stream": "stdout",
       "text": [
        " 0.647099192314\n",
        "trainAccuracy: 1.0\n",
        "testClassRate: 0.647129186603\n",
        "testAccuracy: 0.835825358852\n"
       ]
      }
     ],
     "prompt_number": 17
    },
    {
     "cell_type": "heading",
     "level": 3,
     "metadata": {},
     "source": [
      "Data rate 0.08 Feature length 4000"
     ]
    },
    {
     "cell_type": "code",
     "collapsed": false,
     "input": [
      "TestLogic_Reg(trainLs, testLs, rec, penalty='l1')"
     ],
     "language": "python",
     "metadata": {},
     "outputs": [
      {
       "output_type": "stream",
       "stream": "stdout",
       "text": [
        "trainClassRate: 0.649272837649\n",
        "trainAccuracy: 0.350727162351\n",
        "testClassRate: 0.649170031404\n",
        "testAccuracy: 0.350829968596\n",
        "Lambda: 0.0001\n",
        "Train error rate: 0.649272837649\n",
        "Test error rate: 0.649170031404\n",
        "Run time: 3.3934879303\n",
        "\n",
        "\n",
        "trainClassRate:"
       ]
      },
      {
       "output_type": "stream",
       "stream": "stdout",
       "text": [
        " 0.649272837649\n",
        "trainAccuracy: 0.675218412648\n",
        "testClassRate: 0.649170031404\n",
        "testAccuracy: 0.675340212352\n",
        "Lambda: 0.001\n",
        "Train error rate: 0.324781587352\n",
        "Test error rate: 0.324659787648\n",
        "Run time: 2.61238718033\n",
        "\n",
        "\n",
        "trainClassRate:"
       ]
      },
      {
       "output_type": "stream",
       "stream": "stdout",
       "text": [
        " 0.649272837649\n",
        "trainAccuracy: 0.814738564679\n",
        "testClassRate: 0.649170031404\n",
        "testAccuracy: 0.809481082698\n",
        "Lambda: 0.01\n",
        "Train error rate: 0.185261435321\n",
        "Test error rate: 0.190518917302\n",
        "Run time: 3.07224607468\n",
        "\n",
        "\n",
        "trainClassRate:"
       ]
      },
      {
       "output_type": "stream",
       "stream": "stdout",
       "text": [
        " 0.649272837649\n",
        "trainAccuracy: 0.864570961016\n",
        "testClassRate: 0.649170031404\n",
        "testAccuracy: 0.85464333782\n",
        "Lambda: 0.1\n",
        "Train error rate: 0.135429038984\n",
        "Test error rate: 0.14535666218\n",
        "Run time: 3.06549692154\n",
        "\n",
        "\n",
        "trainClassRate:"
       ]
      },
      {
       "output_type": "stream",
       "stream": "stdout",
       "text": [
        " 0.649272837649\n",
        "trainAccuracy: 0.895029957505\n",
        "testClassRate: 0.649170031404\n",
        "testAccuracy: 0.844474353223\n",
        "Lambda: 1\n",
        "Train error rate: 0.104970042495\n",
        "Test error rate: 0.155525646777\n",
        "Run time: 3.50735998154\n",
        "\n",
        "\n",
        "trainClassRate:"
       ]
      },
      {
       "output_type": "stream",
       "stream": "stdout",
       "text": [
        " 0.649272837649\n",
        "trainAccuracy: 0.897590202444\n",
        "testClassRate: 0.649170031404\n",
        "testAccuracy: 0.835053088081\n",
        "Lambda: 10\n",
        "Train error rate: 0.102409797556\n",
        "Test error rate: 0.164946911919\n",
        "Run time: 4.29057407379\n",
        "\n",
        "\n",
        "trainClassRate:"
       ]
      },
      {
       "output_type": "stream",
       "stream": "stdout",
       "text": [
        " 0.649272837649\n",
        "trainAccuracy: 0.897352653945\n",
        "testClassRate: 0.649170031404\n",
        "testAccuracy: 0.83355764917\n",
        "Lambda: 100\n",
        "Train error rate: 0.102647346055\n",
        "Test error rate: 0.16644235083\n",
        "Run time: 4.32200598717\n",
        "\n",
        "\n",
        "trainClassRate:"
       ]
      },
      {
       "output_type": "stream",
       "stream": "stdout",
       "text": [
        " 0.649272837649\n",
        "trainAccuracy: 0.897458231056\n",
        "testClassRate: 0.649170031404\n",
        "testAccuracy: 0.832959473606\n",
        "Lambda: 1000\n",
        "Train error rate: 0.102541768944\n",
        "Test error rate: 0.167040526394\n",
        "Run time: 4.70088410378\n",
        "\n",
        "\n",
        "trainClassRate:"
       ]
      },
      {
       "output_type": "stream",
       "stream": "stdout",
       "text": [
        " 0.649272837649\n",
        "trainAccuracy: 0.897458231056\n",
        "testClassRate: 0.649170031404\n",
        "testAccuracy: 0.832959473606\n",
        "Lambda: 10000\n",
        "Train error rate: 0.102541768944\n",
        "Test error rate: 0.167040526394\n",
        "Run time: 4.55449199677\n",
        "\n",
        "\n",
        "trainClassRate:"
       ]
      },
      {
       "output_type": "stream",
       "stream": "stdout",
       "text": [
        " 0.649272837649\n",
        "trainAccuracy: 0.897458231056\n",
        "testClassRate: 0.649170031404\n",
        "testAccuracy: 0.832809929714\n",
        "Lambda: 100000\n",
        "Train error rate: 0.102541768944\n",
        "Test error rate: 0.167190070286\n",
        "Run time: 4.37241196632\n",
        "\n",
        "\n"
       ]
      }
     ],
     "prompt_number": 9
    },
    {
     "cell_type": "heading",
     "level": 3,
     "metadata": {},
     "source": [
      "Data rate 0.04 Feature length 6000"
     ]
    },
    {
     "cell_type": "code",
     "collapsed": false,
     "input": [
      "%run yelp.py"
     ],
     "language": "python",
     "metadata": {},
     "outputs": [],
     "prompt_number": 14
    },
    {
     "cell_type": "code",
     "collapsed": false,
     "input": [
      "rec = {};\n",
      "rec['selectRate'] = .04\n",
      "rec['wordDim'] = 6000\n",
      "rec['dataDistr'] = [.85, .0, .15]\n",
      "yelp = Yelp(rec);\n",
      "trainLs, validLs, testLs = yelp.pipeline();\n",
      "rec = yelp.rec;\n",
      "\n",
      "print rec"
     ],
     "language": "python",
     "metadata": {},
     "outputs": [
      {
       "output_type": "stream",
       "stream": "stdout",
       "text": [
        "group_data() spend 0.0630390644073 to process 22287 data\n",
        "devide_data() spend 0.00430202484131\n",
        "{'dataDistr': [0.85, 0.0, 0.15], 'selectRate': 0.04, 'wordDim': 6000, 'process_time': 184.73045301437378, 'dic_to_vec_time': 2.743101119995117, 'group_data_time': 0.06022310256958008, 'devide_data_time': 0.004338979721069336, 'validNum': 0, 'trainNum': 18943, 'hasVotes': True, 'load_time': 59.809041023254395, 'testNum': 3344}"
       ]
      },
      {
       "output_type": "stream",
       "stream": "stdout",
       "text": [
        "\n"
       ]
      }
     ],
     "prompt_number": 11
    },
    {
     "cell_type": "code",
     "collapsed": false,
     "input": [
      "TestLogic_Reg(trainLs, testLs, rec, penalty='l1')"
     ],
     "language": "python",
     "metadata": {},
     "outputs": [
      {
       "output_type": "stream",
       "stream": "stdout",
       "text": [
        "trainClassRate: 0.649844269651\n",
        "trainAccuracy: 0.350155730349\n",
        "testClassRate: 0.649820574163\n",
        "testAccuracy: 0.350179425837\n",
        "Lambda: 0.0001\n",
        "Train error rate: 0.649844269651\n",
        "Test error rate: 0.649820574163\n",
        "Run time: 2.26183080673\n",
        "\n",
        "\n",
        "trainClassRate:"
       ]
      },
      {
       "output_type": "stream",
       "stream": "stdout",
       "text": [
        " 0.649844269651\n",
        "trainAccuracy: 0.649844269651\n",
        "testClassRate: 0.649820574163\n",
        "testAccuracy: 0.649820574163\n",
        "Lambda: 0.001\n",
        "Train error rate: 0.350155730349\n",
        "Test error rate: 0.350179425837\n",
        "Run time: 1.99518108368\n",
        "\n",
        "\n",
        "trainClassRate:"
       ]
      },
      {
       "output_type": "stream",
       "stream": "stdout",
       "text": [
        " 0.649844269651\n",
        "trainAccuracy: 0.788734624927\n",
        "testClassRate: 0.649820574163\n",
        "testAccuracy: 0.784389952153\n",
        "Lambda: 0.01\n",
        "Train error rate: 0.211265375073\n",
        "Test error rate: 0.215610047847\n",
        "Run time: 2.09220790863\n",
        "\n",
        "\n",
        "trainClassRate:"
       ]
      },
      {
       "output_type": "stream",
       "stream": "stdout",
       "text": [
        " 0.649844269651\n",
        "trainAccuracy: 0.860370585441\n",
        "testClassRate: 0.649820574163\n",
        "testAccuracy: 0.833732057416\n",
        "Lambda: 0.1\n",
        "Train error rate: 0.139629414559\n",
        "Test error rate: 0.166267942584\n",
        "Run time: 1.99202394485\n",
        "\n",
        "\n",
        "trainClassRate:"
       ]
      },
      {
       "output_type": "stream",
       "stream": "stdout",
       "text": [
        " 0.649844269651\n",
        "trainAccuracy: 0.938922029246\n",
        "testClassRate: 0.649820574163\n",
        "testAccuracy: 0.815490430622\n",
        "Lambda: 1\n",
        "Train error rate: 0.0610779707544\n",
        "Test error rate: 0.184509569378\n",
        "Run time: 2.34755301476\n",
        "\n",
        "\n",
        "trainClassRate:"
       ]
      },
      {
       "output_type": "stream",
       "stream": "stdout",
       "text": [
        " 0.649844269651\n",
        "trainAccuracy: 0.989969909729\n",
        "testClassRate: 0.649820574163\n",
        "testAccuracy: 0.782894736842\n",
        "Lambda: 10\n",
        "Train error rate: 0.0100300902708\n",
        "Test error rate: 0.217105263158\n",
        "Run time: 4.4014840126\n",
        "\n",
        "\n",
        "trainClassRate:"
       ]
      },
      {
       "output_type": "stream",
       "stream": "stdout",
       "text": [
        " 0.649844269651\n",
        "trainAccuracy: 0.99957768041\n",
        "testClassRate: 0.649820574163\n",
        "testAccuracy: 0.768839712919\n",
        "Lambda: 100\n",
        "Train error rate: 0.00042231959035\n",
        "Test error rate: 0.231160287081\n",
        "Run time: 16.575813055\n",
        "\n",
        "\n"
       ]
      },
      {
       "ename": "KeyboardInterrupt",
       "evalue": "",
       "output_type": "pyerr",
       "traceback": [
        "\u001b[0;31m---------------------------------------------------------------------------\u001b[0m\n\u001b[0;31mKeyboardInterrupt\u001b[0m                         Traceback (most recent call last)",
        "\u001b[0;32m<ipython-input-12-97949522bfad>\u001b[0m in \u001b[0;36m<module>\u001b[0;34m()\u001b[0m\n\u001b[0;32m----> 1\u001b[0;31m \u001b[0mTestLogic_Reg\u001b[0m\u001b[0;34m(\u001b[0m\u001b[0mtrainLs\u001b[0m\u001b[0;34m,\u001b[0m \u001b[0mtestLs\u001b[0m\u001b[0;34m,\u001b[0m \u001b[0mrec\u001b[0m\u001b[0;34m,\u001b[0m \u001b[0mpenalty\u001b[0m\u001b[0;34m=\u001b[0m\u001b[0;34m'l1'\u001b[0m\u001b[0;34m)\u001b[0m\u001b[0;34m\u001b[0m\u001b[0m\n\u001b[0m",
        "\u001b[0;32m/Users/angieyayabird/MLProject/src/yelp.py\u001b[0m in \u001b[0;36mTestLogic_Reg\u001b[0;34m(trainLs, testLs, rec, penalty)\u001b[0m\n\u001b[1;32m    711\u001b[0m         \u001b[0mrec\u001b[0m\u001b[0;34m[\u001b[0m\u001b[0;34m\"MLType\"\u001b[0m\u001b[0;34m]\u001b[0m \u001b[0;34m=\u001b[0m \u001b[0;34m\"logistic regression\"\u001b[0m\u001b[0;34m\u001b[0m\u001b[0m\n\u001b[1;32m    712\u001b[0m         \u001b[0mrec\u001b[0m\u001b[0;34m[\u001b[0m\u001b[0;34m\"penalty:Lambda\"\u001b[0m\u001b[0;34m]\u001b[0m \u001b[0;34m=\u001b[0m \u001b[0mLambda\u001b[0m\u001b[0;34m\u001b[0m\u001b[0m\n\u001b[0;32m--> 713\u001b[0;31m         \u001b[0mmodel\u001b[0m \u001b[0;34m=\u001b[0m \u001b[0mlogreg\u001b[0m\u001b[0;34m.\u001b[0m\u001b[0mfit\u001b[0m\u001b[0;34m(\u001b[0m\u001b[0mtrainLs\u001b[0m\u001b[0;34m[\u001b[0m\u001b[0;34m:\u001b[0m\u001b[0;34m,\u001b[0m\u001b[0;36m0\u001b[0m\u001b[0;34m:\u001b[0m\u001b[0;34m-\u001b[0m\u001b[0;36m1\u001b[0m\u001b[0;34m]\u001b[0m\u001b[0;34m,\u001b[0m \u001b[0mtrainLs\u001b[0m\u001b[0;34m[\u001b[0m\u001b[0;34m:\u001b[0m\u001b[0;34m,\u001b[0m\u001b[0;34m-\u001b[0m\u001b[0;36m1\u001b[0m\u001b[0;34m]\u001b[0m\u001b[0;34m)\u001b[0m\u001b[0;34m\u001b[0m\u001b[0m\n\u001b[0m\u001b[1;32m    714\u001b[0m \u001b[0;34m\u001b[0m\u001b[0m\n\u001b[1;32m    715\u001b[0m \u001b[0;34m\u001b[0m\u001b[0m\n",
        "\u001b[0;32m/Users/angieyayabird/anaconda/lib/python2.7/site-packages/sklearn/svm/base.pyc\u001b[0m in \u001b[0;36mfit\u001b[0;34m(self, X, y)\u001b[0m\n\u001b[1;32m    701\u001b[0m                                               \u001b[0mself\u001b[0m\u001b[0;34m.\u001b[0m\u001b[0mC\u001b[0m\u001b[0;34m,\u001b[0m\u001b[0;34m\u001b[0m\u001b[0m\n\u001b[1;32m    702\u001b[0m                                               \u001b[0mself\u001b[0m\u001b[0;34m.\u001b[0m\u001b[0mclass_weight_\u001b[0m\u001b[0;34m,\u001b[0m\u001b[0;34m\u001b[0m\u001b[0m\n\u001b[0;32m--> 703\u001b[0;31m                                               rnd.randint(np.iinfo('i').max))\n\u001b[0m\u001b[1;32m    704\u001b[0m         \u001b[0;31m# Regarding rnd.randint(..) in the above signature:\u001b[0m\u001b[0;34m\u001b[0m\u001b[0;34m\u001b[0m\u001b[0m\n\u001b[1;32m    705\u001b[0m         \u001b[0;31m# seed for srand in range [0..INT_MAX); due to limitations in Numpy\u001b[0m\u001b[0;34m\u001b[0m\u001b[0;34m\u001b[0m\u001b[0m\n",
        "\u001b[0;31mKeyboardInterrupt\u001b[0m: "
       ]
      }
     ],
     "prompt_number": 12
    },
    {
     "cell_type": "code",
     "collapsed": false,
     "input": [
      "TestLogic_Reg(trainLs, testLs, rec, penalty='l1')"
     ],
     "language": "python",
     "metadata": {},
     "outputs": [
      {
       "output_type": "stream",
       "stream": "stdout",
       "text": [
        "trainClassRate: 0.649844269651\n",
        "trainAccuracy: 0.842685952595\n",
        "testClassRate: 0.649820574163\n",
        "testAccuracy: 0.823863636364\n",
        "Lambda: 0.05\n",
        "Train error rate: 0.157314047405\n",
        "Test error rate: 0.176136363636\n",
        "Run time: 2.14139890671\n",
        "\n",
        "\n",
        "trainClassRate:"
       ]
      },
      {
       "output_type": "stream",
       "stream": "stdout",
       "text": [
        " 0.649844269651\n",
        "trainAccuracy: 0.860370585441\n",
        "testClassRate: 0.649820574163\n",
        "testAccuracy: 0.833732057416\n",
        "Lambda: 0.1\n",
        "Train error rate: 0.139629414559\n",
        "Test error rate: 0.166267942584\n",
        "Run time: 1.90842604637\n",
        "\n",
        "\n",
        "trainClassRate:"
       ]
      },
      {
       "output_type": "stream",
       "stream": "stdout",
       "text": [
        " 0.649844269651\n",
        "trainAccuracy: 0.87219553397\n",
        "testClassRate: 0.649820574163\n",
        "testAccuracy: 0.832236842105\n",
        "Lambda: 0.15\n",
        "Train error rate: 0.12780446603\n",
        "Test error rate: 0.167763157895\n",
        "Run time: 1.93704199791\n",
        "\n",
        "\n",
        "trainClassRate:"
       ]
      },
      {
       "output_type": "stream",
       "stream": "stdout",
       "text": [
        " 0.649844269651\n",
        "trainAccuracy: 0.881697724753\n",
        "testClassRate: 0.649820574163\n",
        "testAccuracy: 0.836124401914\n",
        "Lambda: 0.2\n",
        "Train error rate: 0.118302275247\n",
        "Test error rate: 0.163875598086\n",
        "Run time: 1.93823289871\n",
        "\n",
        "\n",
        "trainClassRate:"
       ]
      },
      {
       "output_type": "stream",
       "stream": "stdout",
       "text": [
        " 0.649844269651\n",
        "trainAccuracy: 0.88972179697\n",
        "testClassRate: 0.649820574163\n",
        "testAccuracy: 0.8370215311\n",
        "Lambda: 0.25\n",
        "Train error rate: 0.11027820303\n",
        "Test error rate: 0.1629784689\n",
        "Run time: 1.9459810257\n",
        "\n",
        "\n",
        "trainClassRate:"
       ]
      },
      {
       "output_type": "stream",
       "stream": "stdout",
       "text": [
        " 0.649844269651\n",
        "trainAccuracy: 0.896003800876\n",
        "testClassRate: 0.649820574163\n",
        "testAccuracy: 0.836124401914\n",
        "Lambda: 0.3\n",
        "Train error rate: 0.103996199124\n",
        "Test error rate: 0.163875598086\n",
        "Run time: 1.96036505699\n",
        "\n",
        "\n",
        "trainClassRate:"
       ]
      }
     ]
    },
    {
     "cell_type": "heading",
     "level": 3,
     "metadata": {},
     "source": [
      "Data rate 0.04 Feature length 8000"
     ]
    },
    {
     "cell_type": "code",
     "collapsed": false,
     "input": [
      "import matplotlib.pyplot as plt\n",
      "%matplotlib inline\n",
      "%run yelp.py"
     ],
     "language": "python",
     "metadata": {},
     "outputs": [
      {
       "output_type": "stream",
       "stream": "stdout",
       "text": [
        "10000\n",
        "20000"
       ]
      },
      {
       "output_type": "stream",
       "stream": "stdout",
       "text": [
        "\n",
        "30000"
       ]
      },
      {
       "output_type": "stream",
       "stream": "stdout",
       "text": [
        "\n",
        "40000"
       ]
      },
      {
       "output_type": "stream",
       "stream": "stdout",
       "text": [
        "\n",
        "50000"
       ]
      },
      {
       "output_type": "stream",
       "stream": "stdout",
       "text": [
        "\n",
        "60000"
       ]
      },
      {
       "output_type": "stream",
       "stream": "stdout",
       "text": [
        "\n",
        "70000"
       ]
      },
      {
       "output_type": "stream",
       "stream": "stdout",
       "text": [
        "\n",
        "80000"
       ]
      },
      {
       "output_type": "stream",
       "stream": "stdout",
       "text": [
        "\n",
        "90000"
       ]
      },
      {
       "output_type": "stream",
       "stream": "stdout",
       "text": [
        "\n",
        "100000"
       ]
      },
      {
       "output_type": "stream",
       "stream": "stdout",
       "text": [
        "\n",
        "110000"
       ]
      },
      {
       "output_type": "stream",
       "stream": "stdout",
       "text": [
        "\n",
        "120000"
       ]
      },
      {
       "output_type": "stream",
       "stream": "stdout",
       "text": [
        "\n",
        "130000"
       ]
      },
      {
       "output_type": "stream",
       "stream": "stdout",
       "text": [
        "\n",
        "140000"
       ]
      },
      {
       "output_type": "stream",
       "stream": "stdout",
       "text": [
        "\n",
        "150000"
       ]
      },
      {
       "output_type": "stream",
       "stream": "stdout",
       "text": [
        "\n",
        "160000"
       ]
      },
      {
       "output_type": "stream",
       "stream": "stdout",
       "text": [
        "\n",
        "170000"
       ]
      },
      {
       "output_type": "stream",
       "stream": "stdout",
       "text": [
        "\n",
        "180000"
       ]
      },
      {
       "output_type": "stream",
       "stream": "stdout",
       "text": [
        "\n",
        "190000"
       ]
      },
      {
       "output_type": "stream",
       "stream": "stdout",
       "text": [
        "\n",
        "200000"
       ]
      },
      {
       "output_type": "stream",
       "stream": "stdout",
       "text": [
        "\n",
        "210000"
       ]
      },
      {
       "output_type": "stream",
       "stream": "stdout",
       "text": [
        "\n",
        "220000"
       ]
      },
      {
       "output_type": "stream",
       "stream": "stdout",
       "text": [
        "\n",
        "230000"
       ]
      },
      {
       "output_type": "stream",
       "stream": "stdout",
       "text": [
        "\n",
        "240000"
       ]
      },
      {
       "output_type": "stream",
       "stream": "stdout",
       "text": [
        "\n",
        "250000"
       ]
      },
      {
       "output_type": "stream",
       "stream": "stdout",
       "text": [
        "\n",
        "260000"
       ]
      },
      {
       "output_type": "stream",
       "stream": "stdout",
       "text": [
        "\n",
        "270000"
       ]
      },
      {
       "output_type": "stream",
       "stream": "stdout",
       "text": [
        "\n",
        "280000"
       ]
      },
      {
       "output_type": "stream",
       "stream": "stdout",
       "text": [
        "\n",
        "290000"
       ]
      },
      {
       "output_type": "stream",
       "stream": "stdout",
       "text": [
        "\n",
        "300000"
       ]
      },
      {
       "output_type": "stream",
       "stream": "stdout",
       "text": [
        "\n",
        "310000"
       ]
      },
      {
       "output_type": "stream",
       "stream": "stdout",
       "text": [
        "\n",
        "320000"
       ]
      },
      {
       "output_type": "stream",
       "stream": "stdout",
       "text": [
        "\n",
        "330000"
       ]
      },
      {
       "output_type": "stream",
       "stream": "stdout",
       "text": [
        "\n",
        "340000"
       ]
      },
      {
       "output_type": "stream",
       "stream": "stdout",
       "text": [
        "\n",
        "350000"
       ]
      },
      {
       "output_type": "stream",
       "stream": "stdout",
       "text": [
        "\n",
        "360000"
       ]
      },
      {
       "output_type": "stream",
       "stream": "stdout",
       "text": [
        "\n",
        "370000"
       ]
      },
      {
       "output_type": "stream",
       "stream": "stdout",
       "text": [
        "\n",
        "380000"
       ]
      },
      {
       "output_type": "stream",
       "stream": "stdout",
       "text": [
        "\n",
        "390000"
       ]
      },
      {
       "output_type": "stream",
       "stream": "stdout",
       "text": [
        "\n",
        "400000"
       ]
      },
      {
       "output_type": "stream",
       "stream": "stdout",
       "text": [
        "\n",
        "410000"
       ]
      },
      {
       "output_type": "stream",
       "stream": "stdout",
       "text": [
        "\n",
        "420000"
       ]
      },
      {
       "output_type": "stream",
       "stream": "stdout",
       "text": [
        "\n",
        "430000"
       ]
      },
      {
       "output_type": "stream",
       "stream": "stdout",
       "text": [
        "\n",
        "440000"
       ]
      },
      {
       "output_type": "stream",
       "stream": "stdout",
       "text": [
        "\n",
        "450000"
       ]
      },
      {
       "output_type": "stream",
       "stream": "stdout",
       "text": [
        "\n",
        "460000"
       ]
      },
      {
       "output_type": "stream",
       "stream": "stdout",
       "text": [
        "\n",
        "470000"
       ]
      },
      {
       "output_type": "stream",
       "stream": "stdout",
       "text": [
        "\n",
        "480000"
       ]
      },
      {
       "output_type": "stream",
       "stream": "stdout",
       "text": [
        "\n",
        "490000"
       ]
      },
      {
       "output_type": "stream",
       "stream": "stdout",
       "text": [
        "\n",
        "500000"
       ]
      },
      {
       "output_type": "stream",
       "stream": "stdout",
       "text": [
        "\n",
        "510000"
       ]
      },
      {
       "output_type": "stream",
       "stream": "stdout",
       "text": [
        "\n",
        "520000"
       ]
      },
      {
       "output_type": "stream",
       "stream": "stdout",
       "text": [
        "\n",
        "530000"
       ]
      },
      {
       "output_type": "stream",
       "stream": "stdout",
       "text": [
        "\n",
        "540000"
       ]
      },
      {
       "output_type": "stream",
       "stream": "stdout",
       "text": [
        "\n",
        "550000"
       ]
      },
      {
       "output_type": "stream",
       "stream": "stdout",
       "text": [
        "\n",
        "560000"
       ]
      },
      {
       "output_type": "stream",
       "stream": "stdout",
       "text": [
        "\n",
        "570000"
       ]
      },
      {
       "output_type": "stream",
       "stream": "stdout",
       "text": [
        "\n",
        "580000"
       ]
      },
      {
       "output_type": "stream",
       "stream": "stdout",
       "text": [
        "\n",
        "590000"
       ]
      },
      {
       "output_type": "stream",
       "stream": "stdout",
       "text": [
        "\n",
        "600000"
       ]
      },
      {
       "output_type": "stream",
       "stream": "stdout",
       "text": [
        "\n",
        "610000"
       ]
      },
      {
       "output_type": "stream",
       "stream": "stdout",
       "text": [
        "\n",
        "620000"
       ]
      },
      {
       "output_type": "stream",
       "stream": "stdout",
       "text": [
        "\n",
        "630000"
       ]
      },
      {
       "output_type": "stream",
       "stream": "stdout",
       "text": [
        "\n",
        "640000"
       ]
      },
      {
       "output_type": "stream",
       "stream": "stdout",
       "text": [
        "\n",
        "650000"
       ]
      },
      {
       "output_type": "stream",
       "stream": "stdout",
       "text": [
        "\n",
        "660000"
       ]
      },
      {
       "output_type": "stream",
       "stream": "stdout",
       "text": [
        "\n",
        "670000"
       ]
      },
      {
       "output_type": "stream",
       "stream": "stdout",
       "text": [
        "\n",
        "680000"
       ]
      },
      {
       "output_type": "stream",
       "stream": "stdout",
       "text": [
        "\n",
        "690000"
       ]
      },
      {
       "output_type": "stream",
       "stream": "stdout",
       "text": [
        "\n",
        "700000"
       ]
      },
      {
       "output_type": "stream",
       "stream": "stdout",
       "text": [
        "\n",
        "710000"
       ]
      },
      {
       "output_type": "stream",
       "stream": "stdout",
       "text": [
        "\n",
        "720000"
       ]
      },
      {
       "output_type": "stream",
       "stream": "stdout",
       "text": [
        "\n",
        "730000"
       ]
      },
      {
       "output_type": "stream",
       "stream": "stdout",
       "text": [
        "\n",
        "740000"
       ]
      },
      {
       "output_type": "stream",
       "stream": "stdout",
       "text": [
        "\n",
        "750000"
       ]
      },
      {
       "output_type": "stream",
       "stream": "stdout",
       "text": [
        "\n",
        "760000"
       ]
      },
      {
       "output_type": "stream",
       "stream": "stdout",
       "text": [
        "\n",
        "770000"
       ]
      },
      {
       "output_type": "stream",
       "stream": "stdout",
       "text": [
        "\n",
        "780000"
       ]
      },
      {
       "output_type": "stream",
       "stream": "stdout",
       "text": [
        "\n",
        "790000"
       ]
      },
      {
       "output_type": "stream",
       "stream": "stdout",
       "text": [
        "\n",
        "800000"
       ]
      },
      {
       "output_type": "stream",
       "stream": "stdout",
       "text": [
        "\n",
        "810000"
       ]
      },
      {
       "output_type": "stream",
       "stream": "stdout",
       "text": [
        "\n",
        "820000"
       ]
      },
      {
       "output_type": "stream",
       "stream": "stdout",
       "text": [
        "\n",
        "830000"
       ]
      },
      {
       "output_type": "stream",
       "stream": "stdout",
       "text": [
        "\n",
        "840000"
       ]
      },
      {
       "output_type": "stream",
       "stream": "stdout",
       "text": [
        "\n",
        "850000"
       ]
      },
      {
       "output_type": "stream",
       "stream": "stdout",
       "text": [
        "\n",
        "860000"
       ]
      },
      {
       "output_type": "stream",
       "stream": "stdout",
       "text": [
        "\n",
        "870000"
       ]
      },
      {
       "output_type": "stream",
       "stream": "stdout",
       "text": [
        "\n",
        "880000"
       ]
      },
      {
       "output_type": "stream",
       "stream": "stdout",
       "text": [
        "\n",
        "890000"
       ]
      },
      {
       "output_type": "stream",
       "stream": "stdout",
       "text": [
        "\n",
        "900000"
       ]
      },
      {
       "output_type": "stream",
       "stream": "stdout",
       "text": [
        "\n",
        "910000"
       ]
      },
      {
       "output_type": "stream",
       "stream": "stdout",
       "text": [
        "\n",
        "920000"
       ]
      },
      {
       "output_type": "stream",
       "stream": "stdout",
       "text": [
        "\n",
        "930000"
       ]
      },
      {
       "output_type": "stream",
       "stream": "stdout",
       "text": [
        "\n",
        "940000"
       ]
      },
      {
       "output_type": "stream",
       "stream": "stdout",
       "text": [
        "\n",
        "950000"
       ]
      },
      {
       "output_type": "stream",
       "stream": "stdout",
       "text": [
        "\n",
        "960000"
       ]
      },
      {
       "output_type": "stream",
       "stream": "stdout",
       "text": [
        "\n",
        "970000"
       ]
      },
      {
       "output_type": "stream",
       "stream": "stdout",
       "text": [
        "\n",
        "980000"
       ]
      },
      {
       "output_type": "stream",
       "stream": "stdout",
       "text": [
        "\n",
        "990000"
       ]
      },
      {
       "output_type": "stream",
       "stream": "stdout",
       "text": [
        "\n",
        "1000000"
       ]
      },
      {
       "output_type": "stream",
       "stream": "stdout",
       "text": [
        "\n",
        "1010000"
       ]
      },
      {
       "output_type": "stream",
       "stream": "stdout",
       "text": [
        "\n",
        "1020000"
       ]
      },
      {
       "output_type": "stream",
       "stream": "stdout",
       "text": [
        "\n",
        "1030000"
       ]
      },
      {
       "output_type": "stream",
       "stream": "stdout",
       "text": [
        "\n",
        "1040000"
       ]
      },
      {
       "output_type": "stream",
       "stream": "stdout",
       "text": [
        "\n",
        "1050000"
       ]
      },
      {
       "output_type": "stream",
       "stream": "stdout",
       "text": [
        "\n",
        "1060000"
       ]
      },
      {
       "output_type": "stream",
       "stream": "stdout",
       "text": [
        "\n",
        "1070000"
       ]
      },
      {
       "output_type": "stream",
       "stream": "stdout",
       "text": [
        "\n",
        "1080000"
       ]
      },
      {
       "output_type": "stream",
       "stream": "stdout",
       "text": [
        "\n",
        "1090000"
       ]
      },
      {
       "output_type": "stream",
       "stream": "stdout",
       "text": [
        "\n",
        "1100000"
       ]
      },
      {
       "output_type": "stream",
       "stream": "stdout",
       "text": [
        "\n",
        "1110000"
       ]
      },
      {
       "output_type": "stream",
       "stream": "stdout",
       "text": [
        "\n",
        "1120000"
       ]
      },
      {
       "output_type": "stream",
       "stream": "stdout",
       "text": [
        "\n",
        "1130000"
       ]
      },
      {
       "output_type": "stream",
       "stream": "stdout",
       "text": [
        "\n",
        "1140000"
       ]
      },
      {
       "output_type": "stream",
       "stream": "stdout",
       "text": [
        "\n",
        "1150000"
       ]
      },
      {
       "output_type": "stream",
       "stream": "stdout",
       "text": [
        "\n",
        "1160000"
       ]
      },
      {
       "output_type": "stream",
       "stream": "stdout",
       "text": [
        "\n",
        "1170000"
       ]
      },
      {
       "output_type": "stream",
       "stream": "stdout",
       "text": [
        "\n",
        "1180000"
       ]
      },
      {
       "output_type": "stream",
       "stream": "stdout",
       "text": [
        "\n",
        "1190000"
       ]
      },
      {
       "output_type": "stream",
       "stream": "stdout",
       "text": [
        "\n",
        "1200000"
       ]
      },
      {
       "output_type": "stream",
       "stream": "stdout",
       "text": [
        "\n",
        "1210000"
       ]
      },
      {
       "output_type": "stream",
       "stream": "stdout",
       "text": [
        "\n",
        "1220000"
       ]
      },
      {
       "output_type": "stream",
       "stream": "stdout",
       "text": [
        "\n",
        "1230000"
       ]
      },
      {
       "output_type": "stream",
       "stream": "stdout",
       "text": [
        "\n",
        "1240000"
       ]
      },
      {
       "output_type": "stream",
       "stream": "stdout",
       "text": [
        "\n",
        "1250000"
       ]
      },
      {
       "output_type": "stream",
       "stream": "stdout",
       "text": [
        "\n",
        "1260000"
       ]
      },
      {
       "output_type": "stream",
       "stream": "stdout",
       "text": [
        "\n",
        "1270000"
       ]
      },
      {
       "output_type": "stream",
       "stream": "stdout",
       "text": [
        "\n",
        "1280000"
       ]
      },
      {
       "output_type": "stream",
       "stream": "stdout",
       "text": [
        "\n",
        "1290000"
       ]
      },
      {
       "output_type": "stream",
       "stream": "stdout",
       "text": [
        "\n",
        "1300000"
       ]
      },
      {
       "output_type": "stream",
       "stream": "stdout",
       "text": [
        "\n",
        "1310000"
       ]
      },
      {
       "output_type": "stream",
       "stream": "stdout",
       "text": [
        "\n",
        "1320000"
       ]
      },
      {
       "output_type": "stream",
       "stream": "stdout",
       "text": [
        "\n",
        "1330000"
       ]
      },
      {
       "output_type": "stream",
       "stream": "stdout",
       "text": [
        "\n",
        "1340000"
       ]
      },
      {
       "output_type": "stream",
       "stream": "stdout",
       "text": [
        "\n",
        "1350000"
       ]
      },
      {
       "output_type": "stream",
       "stream": "stdout",
       "text": [
        "\n",
        "1360000"
       ]
      },
      {
       "output_type": "stream",
       "stream": "stdout",
       "text": [
        "\n",
        "1370000"
       ]
      },
      {
       "output_type": "stream",
       "stream": "stdout",
       "text": [
        "\n",
        "1380000"
       ]
      },
      {
       "output_type": "stream",
       "stream": "stdout",
       "text": [
        "\n",
        "1390000"
       ]
      },
      {
       "output_type": "stream",
       "stream": "stdout",
       "text": [
        "\n",
        "1400000"
       ]
      },
      {
       "output_type": "stream",
       "stream": "stdout",
       "text": [
        "\n",
        "1410000"
       ]
      },
      {
       "output_type": "stream",
       "stream": "stdout",
       "text": [
        "\n",
        "1420000"
       ]
      },
      {
       "output_type": "stream",
       "stream": "stdout",
       "text": [
        "\n",
        "1430000"
       ]
      },
      {
       "output_type": "stream",
       "stream": "stdout",
       "text": [
        "\n",
        "1440000"
       ]
      },
      {
       "output_type": "stream",
       "stream": "stdout",
       "text": [
        "\n",
        "1450000"
       ]
      },
      {
       "output_type": "stream",
       "stream": "stdout",
       "text": [
        "\n",
        "1460000"
       ]
      },
      {
       "output_type": "stream",
       "stream": "stdout",
       "text": [
        "\n",
        "1470000"
       ]
      },
      {
       "output_type": "stream",
       "stream": "stdout",
       "text": [
        "\n",
        "1480000"
       ]
      },
      {
       "output_type": "stream",
       "stream": "stdout",
       "text": [
        "\n",
        "1490000"
       ]
      },
      {
       "output_type": "stream",
       "stream": "stdout",
       "text": [
        "\n",
        "1500000"
       ]
      },
      {
       "output_type": "stream",
       "stream": "stdout",
       "text": [
        "\n",
        "1510000"
       ]
      },
      {
       "output_type": "stream",
       "stream": "stdout",
       "text": [
        "\n",
        "1520000"
       ]
      },
      {
       "output_type": "stream",
       "stream": "stdout",
       "text": [
        "\n",
        "1530000"
       ]
      },
      {
       "output_type": "stream",
       "stream": "stdout",
       "text": [
        "\n",
        "1540000"
       ]
      },
      {
       "output_type": "stream",
       "stream": "stdout",
       "text": [
        "\n",
        "1550000"
       ]
      },
      {
       "output_type": "stream",
       "stream": "stdout",
       "text": [
        "\n",
        "1560000"
       ]
      },
      {
       "output_type": "stream",
       "stream": "stdout",
       "text": [
        "\n",
        "load() spend"
       ]
      },
      {
       "output_type": "stream",
       "stream": "stdout",
       "text": [
        " 62.7177670002 to load 557187 reviews\n",
        "process() spend"
       ]
      },
      {
       "output_type": "stream",
       "stream": "stdout",
       "text": [
        " 185.207247019 to process 22287 reviews\n",
        "dic_to_vec() spend"
       ]
      },
      {
       "output_type": "stream",
       "stream": "stdout",
       "text": [
        " 2.41671204567 to process 22287 data\n",
        "group_data() spend"
       ]
      },
      {
       "output_type": "stream",
       "stream": "stdout",
       "text": [
        " 0.162394046783 to process 22287 data\n",
        "devide_data() spend 0.00143599510193\n"
       ]
      }
     ],
     "prompt_number": 10
    },
    {
     "cell_type": "code",
     "collapsed": false,
     "input": [
      "TestLogic_Reg(trainLs, testLs, rec, penalty='l1')"
     ],
     "language": "python",
     "metadata": {},
     "outputs": [
      {
       "output_type": "stream",
       "stream": "stdout",
       "text": [
        "trainClassRate: 0.655070474582\n",
        "trainAccuracy: 0.843002692287\n",
        "testClassRate: 0.65490430622\n",
        "testAccuracy: 0.836124401914\n",
        "Lambda: 0.05\n",
        "Train error rate: 0.156997307713\n",
        "Test error rate: 0.163875598086\n",
        "Run time: 3.06286501884\n",
        "\n",
        "\n",
        "trainClassRate:"
       ]
      },
      {
       "output_type": "stream",
       "stream": "stdout",
       "text": [
        " 0.655070474582\n",
        "trainAccuracy: 0.860265005543\n",
        "testClassRate: 0.65490430622\n",
        "testAccuracy: 0.84509569378\n",
        "Lambda: 0.1\n",
        "Train error rate: 0.139734994457\n",
        "Test error rate: 0.15490430622\n",
        "Run time: 2.50369095802\n",
        "\n",
        "\n",
        "trainClassRate:"
       ]
      },
      {
       "output_type": "stream",
       "stream": "stdout",
       "text": [
        " 0.655070474582\n",
        "trainAccuracy: 0.871614844534\n",
        "testClassRate: 0.65490430622\n",
        "testAccuracy: 0.854066985646\n",
        "Lambda: 0.15\n",
        "Train error rate: 0.128385155466\n",
        "Test error rate: 0.145933014354\n",
        "Run time: 2.55557799339\n",
        "\n",
        "\n",
        "trainClassRate:"
       ]
      },
      {
       "output_type": "stream",
       "stream": "stdout",
       "text": [
        " 0.655070474582\n",
        "trainAccuracy: 0.881486564958\n",
        "testClassRate: 0.65490430622\n",
        "testAccuracy: 0.856160287081\n",
        "Lambda: 0.2\n",
        "Train error rate: 0.118513435042\n",
        "Test error rate: 0.143839712919\n",
        "Run time: 2.65371203423\n",
        "\n",
        "\n",
        "trainClassRate:"
       ]
      },
      {
       "output_type": "stream",
       "stream": "stdout",
       "text": [
        " 0.655070474582\n",
        "trainAccuracy: 0.88882436784\n",
        "testClassRate: 0.65490430622\n",
        "testAccuracy: 0.854964114833\n",
        "Lambda: 0.25\n",
        "Train error rate: 0.11117563216\n",
        "Test error rate: 0.145035885167\n",
        "Run time: 2.92210292816\n",
        "\n",
        "\n",
        "trainClassRate:"
       ]
      },
      {
       "output_type": "stream",
       "stream": "stdout",
       "text": [
        " 0.655070474582\n",
        "trainAccuracy: 0.895159161696\n",
        "testClassRate: 0.65490430622\n",
        "testAccuracy: 0.851375598086\n",
        "Lambda: 0.3\n",
        "Train error rate: 0.104840838304\n",
        "Test error rate: 0.148624401914\n",
        "Run time: 2.84083199501\n",
        "\n",
        "\n",
        "trainClassRate:"
       ]
      },
      {
       "output_type": "stream",
       "stream": "stdout",
       "text": [
        " 0.655070474582\n",
        "trainAccuracy: 0.901124425909\n",
        "testClassRate: 0.65490430622\n",
        "testAccuracy: 0.852571770335\n",
        "Lambda: 0.35\n",
        "Train error rate: 0.0988755740907\n",
        "Test error rate: 0.147428229665\n",
        "Run time: 2.70143890381\n",
        "\n",
        "\n"
       ]
      },
      {
       "metadata": {},
       "output_type": "display_data",
       "png": "[encoded data removed]",
       "text": [
        "<matplotlib.figure.Figure at 0x109b8bf90>"
       ]
      }
     ],
     "prompt_number": 11
    },
    {
     "cell_type": "code",
     "collapsed": false,
     "input": [
      "import numpy as np\n",
      "import matplotlib.pyplot as plt\n",
      "\n",
      "N = 5\n",
      "menMeans = (20, 35, 30, 35, 27)\n",
      "menStd =   (2, 3, 4, 1, 2)\n",
      "\n",
      "ind = np.arange(N)  # the x locations for the groups\n",
      "width = 0.35       # the width of the bars\n",
      "\n",
      "fig, ax = plt.subplots()\n",
      "rects1 = ax.bar(ind, menMeans, width, color='r', yerr=menStd)\n",
      "\n",
      "womenMeans = (25, 32, 34, 20, 25)\n",
      "womenStd =   (3, 5, 2, 3, 3)\n",
      "rects2 = ax.bar(ind+width, womenMeans, width, color='y', yerr=womenStd)\n",
      "\n",
      "# add some text for labels, title and axes ticks\n",
      "ax.set_ylabel('Scores')\n",
      "ax.set_title('Scores by group and gender')\n",
      "ax.set_xticks(ind+width)\n",
      "ax.set_xticklabels( ('G1', 'G2', 'G3', 'G4', 'G5') )\n",
      "\n",
      "ax.legend( (rects1[0], rects2[0]), ('Men', 'Women') )\n",
      "\n",
      "def autolabel(rects):\n",
      "    # attach some text labels\n",
      "    for rect in rects:\n",
      "        height = rect.get_height()\n",
      "        ax.text(rect.get_x()+rect.get_width()/2., 1.05*height, '%d'%int(height),\n",
      "                ha='center', va='bottom')\n",
      "\n",
      "autolabel(rects1)\n",
      "autolabel(rects2)"
     ],
     "language": "python",
     "metadata": {},
     "outputs": []
    }
   ],
   "metadata": {}
  }
 ]
}