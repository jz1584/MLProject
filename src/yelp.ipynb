{
 "metadata": {
  "name": "",
  "signature": "sha256:062f8f3f5f5b7c5e64055a4b71a5d71973b1c8a101769f829c4b9f10f649e949"
 },
 "nbformat": 3,
 "nbformat_minor": 0,
 "worksheets": [
  {
   "cells": [
    {
     "cell_type": "code",
     "collapsed": false,
     "input": [
      "%run yelp.py"
     ],
     "language": "python",
     "metadata": {},
     "outputs": [],
     "prompt_number": 48
    },
    {
     "cell_type": "code",
     "collapsed": false,
     "input": [
      "rec = {};\n",
      "rec['selectRate'] = .04\n",
      "rec['wordDim'] = 2000\n",
      "rec['dataDistr'] = [.85, .0, .15]\n",
      "yelp = Yelp(rec);\n",
      "trainLs, validLs, testLs = yelp.pipeline();\n",
      "rec = yelp.rec;\n",
      "\n",
      "print rec"
     ],
     "language": "python",
     "metadata": {},
     "outputs": [
      {
       "output_type": "stream",
       "stream": "stdout",
       "text": [
        "group_data() spend 0.0174942016602 to process 22287 data\n",
        "devide_data() spend 0.000481128692627\n",
        "{'dataDistr': [0.85, 0.0, 0.15], 'selectRate': 0.04, 'wordDim': 2000, 'process_time': 180.4216799736023, 'dic_to_vec_time': 12.324597120285034, 'group_data_time': 0.017451047897338867, 'devide_data_time': 0.0005049705505371094, 'validNum': 0, 'trainNum': 18943, 'hasVotes': True, 'load_time': 56.77707815170288, 'testNum': 3344}"
       ]
      },
      {
       "output_type": "stream",
       "stream": "stdout",
       "text": [
        "\n"
       ]
      }
     ],
     "prompt_number": 28
    },
    {
     "cell_type": "code",
     "collapsed": false,
     "input": [
      "testDecisionTree(trainLs, testLs, rec)"
     ],
     "language": "python",
     "metadata": {},
     "outputs": [
      {
       "output_type": "stream",
       "stream": "stdout",
       "text": [
        "MLType decision tree\n",
        "trainTime 41.3186380863\n",
        "trainClassRate:"
       ]
      },
      {
       "output_type": "stream",
       "stream": "stdout",
       "text": [
        " 0.648207781238\n",
        "trainAccuracy: 0.999841630154\n",
        "testClassRate: 0.648325358852\n",
        "testAccuracy: 0.708433014354\n"
       ]
      }
     ],
     "prompt_number": 29
    },
    {
     "cell_type": "code",
     "collapsed": false,
     "input": [
      "testRandomForest(trainLs, testLs, rec)"
     ],
     "language": "python",
     "metadata": {},
     "outputs": [
      {
       "output_type": "stream",
       "stream": "stdout",
       "text": [
        "MLType random forest\n",
        "trainTime 52.5006020069\n",
        "trainClassRate:"
       ]
      },
      {
       "output_type": "stream",
       "stream": "stdout",
       "text": [
        " 0.648207781238\n",
        "trainAccuracy: 0.999841630154\n",
        "testClassRate: 0.648325358852\n",
        "testAccuracy: 0.834629186603\n"
       ]
      }
     ],
     "prompt_number": 30
    },
    {
     "cell_type": "code",
     "collapsed": false,
     "input": [
      "testLogisticRegression(trainLs, testLs, rec)"
     ],
     "language": "python",
     "metadata": {},
     "outputs": [
      {
       "output_type": "stream",
       "stream": "stdout",
       "text": [
        "MLType logistic regression\n",
        "trainTime 0.876129865646\n",
        "trainClassRate:"
       ]
      },
      {
       "output_type": "stream",
       "stream": "stdout",
       "text": [
        " 0.648207781238\n",
        "trainAccuracy: 0.888560418096\n",
        "testClassRate: 0.648325358852\n",
        "testAccuracy: 0.838217703349\n"
       ]
      }
     ],
     "prompt_number": 34
    },
    {
     "cell_type": "code",
     "collapsed": false,
     "input": [
      "testSVM(trainLs, testLs, rec)"
     ],
     "language": "python",
     "metadata": {},
     "outputs": [
      {
       "output_type": "stream",
       "stream": "stdout",
       "text": [
        "MLType svm\n",
        "trainTime 585.426215887\n",
        "trainClassRate:"
       ]
      },
      {
       "output_type": "stream",
       "stream": "stdout",
       "text": [
        " 0.648207781238\n",
        "trainAccuracy: 0.805416248746\n",
        "testClassRate: 0.648325358852\n",
        "testAccuracy: 0.804425837321\n"
       ]
      }
     ],
     "prompt_number": 37
    },
    {
     "cell_type": "code",
     "collapsed": false,
     "input": [
      "testKNN(trainLs, testLs, rec)"
     ],
     "language": "python",
     "metadata": {},
     "outputs": [
      {
       "output_type": "stream",
       "stream": "stdout",
       "text": [
        "MLType knn\n",
        "trainTime 6.44628500938\n",
        "trainClassRate:"
       ]
      },
      {
       "output_type": "stream",
       "stream": "stdout",
       "text": [
        " 0.648207781238\n",
        "trainAccuracy: 0.785408858153\n",
        "testClassRate: 0.648325358852\n",
        "testAccuracy: 0.664174641148\n"
       ]
      }
     ],
     "prompt_number": 39
    },
    {
     "cell_type": "code",
     "collapsed": false,
     "input": [
      "testLinearRegression(trainLs, testLs, rec)"
     ],
     "language": "python",
     "metadata": {},
     "outputs": [
      {
       "output_type": "stream",
       "stream": "stdout",
       "text": [
        "MLType linear regression\n",
        "trainTime 151.564337969\n",
        "trainClassRate:"
       ]
      },
      {
       "output_type": "stream",
       "stream": "stdout",
       "text": [
        " 0.648207781238\n",
        "trainAccuracy: 0.0\n",
        "testClassRate: 0.648325358852\n",
        "testAccuracy: 0.0\n"
       ]
      }
     ],
     "prompt_number": 42
    },
    {
     "cell_type": "code",
     "collapsed": false,
     "input": [
      "testAdaBoost(trainLs, testLs, rec)"
     ],
     "language": "python",
     "metadata": {},
     "outputs": [
      {
       "output_type": "stream",
       "stream": "stdout",
       "text": [
        "MLType ada boost\n",
        "trainTime 996.796463966\n",
        "trainClassRate:"
       ]
      },
      {
       "output_type": "stream",
       "stream": "stdout",
       "text": [
        " 0.648207781238\n",
        "trainAccuracy: 0.999841630154\n",
        "testClassRate: 0.648325358852\n",
        "testAccuracy: 0.736842105263\n"
       ]
      }
     ],
     "prompt_number": 49
    },
    {
     "cell_type": "code",
     "collapsed": false,
     "input": [],
     "language": "python",
     "metadata": {},
     "outputs": []
    }
   ],
   "metadata": {}
  }
 ]
}