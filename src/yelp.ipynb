{
 "metadata": {
  "name": "",
  "signature": "sha256:4983538d24881a035026c71caf35d3b6060809258f83afcda63c26c9e10a3ed0"
 },
 "nbformat": 3,
 "nbformat_minor": 0,
 "worksheets": [
  {
   "cells": [
    {
     "cell_type": "code",
     "collapsed": false,
     "input": [
      "import matplotlib.pyplot as plt\n",
      "%matplotlib inline"
     ],
     "language": "python",
     "metadata": {},
     "outputs": [],
     "prompt_number": 15
    },
    {
     "cell_type": "heading",
     "level": 3,
     "metadata": {},
     "source": [
      "Data rate 0.04"
     ]
    },
    {
     "cell_type": "code",
     "collapsed": false,
     "input": [
      "%run yelp.py"
     ],
     "language": "python",
     "metadata": {},
     "outputs": [],
     "prompt_number": 71
    },
    {
     "cell_type": "code",
     "collapsed": false,
     "input": [
      "rec = {};\n",
      "rec['selectRate'] = .04\n",
      "rec['wordDim'] = 2000\n",
      "rec['dataDistr'] = [.85, .0, .15]\n",
      "yelp = Yelp(rec);\n",
      "trainLs, validLs, testLs = yelp.pipeline();\n",
      "rec = yelp.rec;\n",
      "\n",
      "print rec"
     ],
     "language": "python",
     "metadata": {},
     "outputs": [
      {
       "output_type": "stream",
       "stream": "stdout",
       "text": [
        "group_data() spend 0.0174942016602 to process 22287 data\n",
        "devide_data() spend 0.000481128692627\n",
        "{'dataDistr': [0.85, 0.0, 0.15], 'selectRate': 0.04, 'wordDim': 2000, 'process_time': 180.4216799736023, 'dic_to_vec_time': 12.324597120285034, 'group_data_time': 0.017451047897338867, 'devide_data_time': 0.0005049705505371094, 'validNum': 0, 'trainNum': 18943, 'hasVotes': True, 'load_time': 56.77707815170288, 'testNum': 3344}"
       ]
      },
      {
       "output_type": "stream",
       "stream": "stdout",
       "text": [
        "\n"
       ]
      }
     ],
     "prompt_number": 28
    },
    {
     "cell_type": "code",
     "collapsed": false,
     "input": [
      "testDecisionTree(trainLs, testLs, rec)"
     ],
     "language": "python",
     "metadata": {},
     "outputs": [
      {
       "output_type": "stream",
       "stream": "stdout",
       "text": [
        "MLType decision tree\n",
        "trainTime 41.3186380863\n",
        "trainClassRate:"
       ]
      },
      {
       "output_type": "stream",
       "stream": "stdout",
       "text": [
        " 0.648207781238\n",
        "trainAccuracy: 0.999841630154\n",
        "testClassRate: 0.648325358852\n",
        "testAccuracy: 0.708433014354\n"
       ]
      }
     ],
     "prompt_number": 29
    },
    {
     "cell_type": "code",
     "collapsed": false,
     "input": [
      "testRandomForest(trainLs, testLs, rec)"
     ],
     "language": "python",
     "metadata": {},
     "outputs": [
      {
       "output_type": "stream",
       "stream": "stdout",
       "text": [
        "MLType random forest\n",
        "trainTime 52.5006020069\n",
        "trainClassRate:"
       ]
      },
      {
       "output_type": "stream",
       "stream": "stdout",
       "text": [
        " 0.648207781238\n",
        "trainAccuracy: 0.999841630154\n",
        "testClassRate: 0.648325358852\n",
        "testAccuracy: 0.834629186603\n"
       ]
      }
     ],
     "prompt_number": 30
    },
    {
     "cell_type": "code",
     "collapsed": false,
     "input": [
      "testSVM(trainLs, testLs, rec)"
     ],
     "language": "python",
     "metadata": {},
     "outputs": [
      {
       "output_type": "stream",
       "stream": "stdout",
       "text": [
        "MLType svm\n",
        "trainTime 585.426215887\n",
        "trainClassRate:"
       ]
      },
      {
       "output_type": "stream",
       "stream": "stdout",
       "text": [
        " 0.648207781238\n",
        "trainAccuracy: 0.805416248746\n",
        "testClassRate: 0.648325358852\n",
        "testAccuracy: 0.804425837321\n"
       ]
      }
     ],
     "prompt_number": 37
    },
    {
     "cell_type": "code",
     "collapsed": false,
     "input": [
      "testLogisticRegression(trainLs, testLs, rec)"
     ],
     "language": "python",
     "metadata": {},
     "outputs": [
      {
       "output_type": "stream",
       "stream": "stdout",
       "text": [
        "MLType logistic regression\n",
        "trainTime 0.876129865646\n",
        "trainClassRate:"
       ]
      },
      {
       "output_type": "stream",
       "stream": "stdout",
       "text": [
        " 0.648207781238\n",
        "trainAccuracy: 0.888560418096\n",
        "testClassRate: 0.648325358852\n",
        "testAccuracy: 0.838217703349\n"
       ]
      }
     ],
     "prompt_number": 34
    },
    {
     "cell_type": "code",
     "collapsed": false,
     "input": [
      "testKNN(trainLs, testLs, rec)"
     ],
     "language": "python",
     "metadata": {},
     "outputs": [
      {
       "output_type": "stream",
       "stream": "stdout",
       "text": [
        "MLType knn\n",
        "trainTime 6.44628500938\n",
        "trainClassRate:"
       ]
      },
      {
       "output_type": "stream",
       "stream": "stdout",
       "text": [
        " 0.648207781238\n",
        "trainAccuracy: 0.785408858153\n",
        "testClassRate: 0.648325358852\n",
        "testAccuracy: 0.664174641148\n"
       ]
      }
     ],
     "prompt_number": 39
    },
    {
     "cell_type": "code",
     "collapsed": false,
     "input": [
      "testLinearRegression(trainLs, testLs, rec)"
     ],
     "language": "python",
     "metadata": {},
     "outputs": [
      {
       "output_type": "stream",
       "stream": "stdout",
       "text": [
        "MLType linear regression\n",
        "trainTime 151.564337969\n",
        "trainClassRate:"
       ]
      },
      {
       "output_type": "stream",
       "stream": "stdout",
       "text": [
        " 0.648207781238\n",
        "trainAccuracy: 0.0\n",
        "testClassRate: 0.648325358852\n",
        "testAccuracy: 0.0\n"
       ]
      }
     ],
     "prompt_number": 42
    },
    {
     "cell_type": "code",
     "collapsed": false,
     "input": [
      "testAdaBoost(trainLs, testLs, rec)"
     ],
     "language": "python",
     "metadata": {},
     "outputs": [
      {
       "output_type": "stream",
       "stream": "stdout",
       "text": [
        "MLType ada boost\n",
        "trainTime 996.796463966\n",
        "trainClassRate:"
       ]
      },
      {
       "output_type": "stream",
       "stream": "stdout",
       "text": [
        " 0.648207781238\n",
        "trainAccuracy: 0.999841630154\n",
        "testClassRate: 0.648325358852\n",
        "testAccuracy: 0.736842105263\n"
       ]
      }
     ],
     "prompt_number": 49
    },
    {
     "cell_type": "heading",
     "level": 3,
     "metadata": {},
     "source": [
      "Try TFIDF with stopword removing"
     ]
    },
    {
     "cell_type": "code",
     "collapsed": false,
     "input": [
      "%run yelp.py"
     ],
     "language": "python",
     "metadata": {},
     "outputs": [],
     "prompt_number": 1
    },
    {
     "cell_type": "code",
     "collapsed": false,
     "input": [
      "rec = {};\n",
      "rec['selectRate'] = .04\n",
      "rec['wordDim'] = 2000\n",
      "rec['dataDistr'] = [.85, .0, .15]\n",
      "yelp = Yelp(rec);\n",
      "trainLs, validLs, testLs = yelp.pipeline(tfidf = True)\n",
      "rec = yelp.rec;\n",
      "\n",
      "print rec"
     ],
     "language": "python",
     "metadata": {},
     "outputs": [
      {
       "output_type": "stream",
       "stream": "stdout",
       "text": [
        "group_data() spend 0.0196449756622 to process 22287 data\n",
        "devide_data() spend 0.000503063201904\n",
        "{'dataDistr': [0.85, 0.0, 0.15], 'selectRate': 0.04, 'wordDim': 2000, 'process_time': 182.85252404212952, 'group_data_time': 0.01959395408630371, 'tfidf': True, 'devide_data_time': 0.0005269050598144531, 'validNum': 0, 'dic_to_tfidf_vec_time': 3.185744047164917, 'trainNum': 18943, 'hasVotes': True, 'load_time': 54.60091519355774, 'testNum': 3344}"
       ]
      },
      {
       "output_type": "stream",
       "stream": "stdout",
       "text": [
        "\n"
       ]
      }
     ],
     "prompt_number": 2
    },
    {
     "cell_type": "code",
     "collapsed": false,
     "input": [
      "testDecisionTree(trainLs, testLs, rec)"
     ],
     "language": "python",
     "metadata": {},
     "outputs": [
      {
       "output_type": "stream",
       "stream": "stdout",
       "text": [
        "MLType decision tree\n",
        "trainTime 45.8618421555\n",
        "trainClassRate:"
       ]
      },
      {
       "output_type": "stream",
       "stream": "stdout",
       "text": [
        " 0.644934804413\n",
        "trainAccuracy: 0.999947210051\n",
        "testClassRate: 0.644736842105\n",
        "testAccuracy: 0.704545454545\n"
       ]
      }
     ],
     "prompt_number": 3
    },
    {
     "cell_type": "code",
     "collapsed": false,
     "input": [
      "testRandomForest(trainLs, testLs, rec)"
     ],
     "language": "python",
     "metadata": {},
     "outputs": [
      {
       "output_type": "stream",
       "stream": "stdout",
       "text": [
        "MLType random forest\n",
        "trainTime 63.5600810051\n",
        "trainClassRate:"
       ]
      },
      {
       "output_type": "stream",
       "stream": "stdout",
       "text": [
        " 0.644934804413\n",
        "trainAccuracy: 0.999947210051\n",
        "testClassRate: 0.644736842105\n",
        "testAccuracy: 0.820275119617\n"
       ]
      }
     ],
     "prompt_number": 4
    },
    {
     "cell_type": "code",
     "collapsed": false,
     "input": [
      "testLogisticRegression(trainLs, testLs, rec)"
     ],
     "language": "python",
     "metadata": {},
     "outputs": [
      {
       "output_type": "stream",
       "stream": "stdout",
       "text": [
        "MLType logistic regression\n",
        "trainTime 0.52025103569\n",
        "trainClassRate:"
       ]
      },
      {
       "output_type": "stream",
       "stream": "stdout",
       "text": [
        " 0.645145964208\n",
        "trainAccuracy: 0.848281687167\n",
        "testClassRate: 0.645035885167\n",
        "testAccuracy: 0.830442583732\n"
       ]
      }
     ],
     "prompt_number": 5
    },
    {
     "cell_type": "heading",
     "level": 3,
     "metadata": {},
     "source": [
      "Try TFIDF WITHOUT stopword removing"
     ]
    },
    {
     "cell_type": "code",
     "collapsed": false,
     "input": [
      "%run yelp.py"
     ],
     "language": "python",
     "metadata": {},
     "outputs": [],
     "prompt_number": 2
    },
    {
     "cell_type": "code",
     "collapsed": false,
     "input": [
      "rec = {};\n",
      "rec['selectRate'] = .04\n",
      "rec['wordDim'] = 2000\n",
      "rec['dataDistr'] = [.85, .0, .15]\n",
      "yelp = Yelp(rec);\n",
      "trainLs, validLs, testLs = yelp.pipeline(tfidf = True, stopWord = False)\n",
      "rec = yelp.rec;\n",
      "\n",
      "print rec"
     ],
     "language": "python",
     "metadata": {},
     "outputs": [
      {
       "output_type": "stream",
       "stream": "stdout",
       "text": [
        "group_data() spend 0.0183320045471 to process 22287 data\n",
        "devide_data() spend 0.000511169433594\n",
        "{'stopWord': False, 'dataDistr': [0.85, 0.0, 0.15], 'selectRate': 0.04, 'wordDim': 2000, 'process_time': 173.4458589553833, 'group_data_time': 0.018280029296875, 'tfidf': True, 'devide_data_time': 0.0005359649658203125, 'validNum': 0, 'dic_to_tfidf_vec_time': 4.6791510581970215, 'trainNum': 18943, 'hasVotes': True, 'load_time': 55.364279985427856, 'testNum': 3344}"
       ]
      },
      {
       "output_type": "stream",
       "stream": "stdout",
       "text": [
        "\n"
       ]
      }
     ],
     "prompt_number": 3
    },
    {
     "cell_type": "code",
     "collapsed": false,
     "input": [
      "testDecisionTree(trainLs, testLs, rec)"
     ],
     "language": "python",
     "metadata": {},
     "outputs": [
      {
       "output_type": "stream",
       "stream": "stdout",
       "text": [
        "MLType decision tree\n",
        "trainTime 30.9749419689\n",
        "trainClassRate:"
       ]
      },
      {
       "output_type": "stream",
       "stream": "stdout",
       "text": [
        " 0.646993612416\n",
        "trainAccuracy: 1.0\n",
        "testClassRate: 0.646830143541\n",
        "testAccuracy: 0.69706937799\n"
       ]
      }
     ],
     "prompt_number": 4
    },
    {
     "cell_type": "code",
     "collapsed": false,
     "input": [
      "testRandomForest(trainLs, testLs, rec)"
     ],
     "language": "python",
     "metadata": {},
     "outputs": [
      {
       "output_type": "stream",
       "stream": "stdout",
       "text": [
        "MLType random forest\n",
        "trainTime 48.6197719574\n",
        "trainClassRate:"
       ]
      },
      {
       "output_type": "stream",
       "stream": "stdout",
       "text": [
        " 0.646993612416\n",
        "trainAccuracy: 1.0\n",
        "testClassRate: 0.646830143541\n",
        "testAccuracy: 0.817583732057\n"
       ]
      }
     ],
     "prompt_number": 5
    },
    {
     "cell_type": "code",
     "collapsed": false,
     "input": [
      "testLogisticRegression(trainLs, testLs, rec)"
     ],
     "language": "python",
     "metadata": {},
     "outputs": [
      {
       "output_type": "stream",
       "stream": "stdout",
       "text": [
        "MLType logistic regression\n",
        "trainTime 0.53470492363\n",
        "trainClassRate:"
       ]
      },
      {
       "output_type": "stream",
       "stream": "stdout",
       "text": [
        " 0.646993612416\n",
        "trainAccuracy: 0.790899012828\n",
        "testClassRate: 0.646830143541\n",
        "testAccuracy: 0.782894736842\n"
       ]
      }
     ],
     "prompt_number": 6
    },
    {
     "cell_type": "heading",
     "level": 3,
     "metadata": {},
     "source": [
      "Data rate 0.08"
     ]
    },
    {
     "cell_type": "code",
     "collapsed": false,
     "input": [
      "%run yelp.py"
     ],
     "language": "python",
     "metadata": {},
     "outputs": [],
     "prompt_number": 6
    },
    {
     "cell_type": "code",
     "collapsed": false,
     "input": [
      "rec = {};\n",
      "rec['selectRate'] = .08\n",
      "rec['wordDim'] = 2000\n",
      "rec['dataDistr'] = [.85, .0, .15]\n",
      "yelp = Yelp(rec);\n",
      "trainLs, validLs, testLs = yelp.pipeline();\n",
      "rec = yelp.rec;\n",
      "\n",
      "print rec"
     ],
     "language": "python",
     "metadata": {},
     "outputs": [
      {
       "output_type": "stream",
       "stream": "stdout",
       "text": [
        "group_data() spend 0.0399680137634 to process 44574 data\n",
        "devide_data() spend 0.00217509269714\n",
        "{'dataDistr': [0.85, 0.0, 0.15], 'selectRate': 0.08, 'wordDim': 2000, 'process_time': 345.56597995758057, 'dic_to_vec_time': 3.5982120037078857, 'group_data_time': 0.03989100456237793, 'devide_data_time': 0.0022041797637939453, 'validNum': 0, 'trainNum': 37887, 'hasVotes': True, 'load_time': 54.89324712753296, 'testNum': 6687}"
       ]
      },
      {
       "output_type": "stream",
       "stream": "stdout",
       "text": [
        "\n"
       ]
      }
     ],
     "prompt_number": 2
    },
    {
     "cell_type": "code",
     "collapsed": false,
     "input": [
      "testDecisionTree(trainLs, testLs, rec)"
     ],
     "language": "python",
     "metadata": {},
     "outputs": [
      {
       "output_type": "stream",
       "stream": "stdout",
       "text": [
        "MLType decision tree\n",
        "trainTime 100.973232031\n",
        "trainClassRate:"
       ]
      },
      {
       "output_type": "stream",
       "stream": "stdout",
       "text": [
        " 0.648744952094\n",
        "trainAccuracy: 0.999973605722\n",
        "testClassRate: 0.648721399731\n",
        "testAccuracy: 0.70405263945\n"
       ]
      }
     ],
     "prompt_number": 3
    },
    {
     "cell_type": "code",
     "collapsed": false,
     "input": [
      "#n_estimators = 100\n",
      "testRandomForest(trainLs, testLs, rec)"
     ],
     "language": "python",
     "metadata": {},
     "outputs": [
      {
       "output_type": "stream",
       "stream": "stdout",
       "text": [
        "MLType random forest\n",
        "trainTime 138.143651962\n",
        "trainClassRate:"
       ]
      },
      {
       "output_type": "stream",
       "stream": "stdout",
       "text": [
        " 0.648744952094\n",
        "trainAccuracy: 0.999973605722\n",
        "testClassRate: 0.648721399731\n",
        "testAccuracy: 0.818752803948\n"
       ]
      }
     ],
     "prompt_number": 4
    },
    {
     "cell_type": "code",
     "collapsed": false,
     "input": [
      "testLogisticRegression(trainLs, testLs, rec)"
     ],
     "language": "python",
     "metadata": {},
     "outputs": [
      {
       "output_type": "stream",
       "stream": "stdout",
       "text": [
        "MLType logistic regression\n",
        "trainTime 2.06509685516\n",
        "trainClassRate:"
       ]
      },
      {
       "output_type": "stream",
       "stream": "stdout",
       "text": [
        " 0.648744952094\n",
        "trainAccuracy: 0.873650592552\n",
        "testClassRate: 0.648721399731\n",
        "testAccuracy: 0.842978914311\n"
       ]
      }
     ],
     "prompt_number": 5
    },
    {
     "cell_type": "code",
     "collapsed": false,
     "input": [
      "#n_estimators = 200\n",
      "testRandomForest(trainLs, testLs, rec)"
     ],
     "language": "python",
     "metadata": {},
     "outputs": [
      {
       "output_type": "stream",
       "stream": "stdout",
       "text": [
        "MLType random forest\n",
        "trainTime 277.368056059\n",
        "trainClassRate:"
       ]
      },
      {
       "output_type": "stream",
       "stream": "stdout",
       "text": [
        " 0.648744952094\n",
        "trainAccuracy: 0.999973605722\n",
        "testClassRate: 0.648721399731\n",
        "testAccuracy: 0.822192313444\n"
       ]
      }
     ],
     "prompt_number": 7
    },
    {
     "cell_type": "heading",
     "level": 3,
     "metadata": {},
     "source": [
      "Data rate 0.04 Feature length 4000"
     ]
    },
    {
     "cell_type": "code",
     "collapsed": false,
     "input": [
      "%run yelp.py"
     ],
     "language": "python",
     "metadata": {},
     "outputs": [],
     "prompt_number": 13
    },
    {
     "cell_type": "code",
     "collapsed": false,
     "input": [
      "rec = {};\n",
      "rec['selectRate'] = .08\n",
      "rec['wordDim'] = 2000\n",
      "rec['dataDistr'] = [.85, .0, .15]\n",
      "yelp = Yelp(rec);\n",
      "trainLs, validLs, testLs = yelp.pipeline();\n",
      "rec = yelp.rec;\n",
      "\n",
      "print rec"
     ],
     "language": "python",
     "metadata": {},
     "outputs": [
      {
       "output_type": "stream",
       "stream": "stdout",
       "text": [
        "group_data() spend 0.0413219928741 to process 22287 data\n",
        "devide_data() spend 0.00875496864319\n",
        "{'dataDistr': [0.85, 0.0, 0.15], 'selectRate': 0.04, 'wordDim': 4000, 'process_time': 172.09690499305725, 'dic_to_vec_time': 2.386988878250122, 'group_data_time': 0.04018521308898926, 'devide_data_time': 0.008786916732788086, 'validNum': 0, 'trainNum': 18943, 'hasVotes': True, 'load_time': 56.63936686515808, 'testNum': 3344}"
       ]
      },
      {
       "output_type": "stream",
       "stream": "stdout",
       "text": [
        "\n"
       ]
      }
     ],
     "prompt_number": 10
    },
    {
     "cell_type": "code",
     "collapsed": false,
     "input": [
      "testLogisticRegression(trainLs, testLs, rec)"
     ],
     "language": "python",
     "metadata": {},
     "outputs": [
      {
       "output_type": "stream",
       "stream": "stdout",
       "text": [
        "MLType logistic regression\n",
        "trainTime 1.69438004494\n",
        "trainClassRate:"
       ]
      },
      {
       "output_type": "stream",
       "stream": "stdout",
       "text": [
        " 0.647099192314\n",
        "trainAccuracy: 0.910573826743\n",
        "testClassRate: 0.647129186603\n",
        "testAccuracy: 0.843899521531\n"
       ]
      }
     ],
     "prompt_number": 11
    },
    {
     "cell_type": "code",
     "collapsed": false,
     "input": [
      "TestLogic_Reg(trainLs, testLs, rec, penalty='l1')"
     ],
     "language": "python",
     "metadata": {},
     "outputs": [
      {
       "output_type": "stream",
       "stream": "stdout",
       "text": [
        "trainClassRate: 0.647099192314\n",
        "trainAccuracy: 0.352900807686\n",
        "testClassRate: 0.647129186603\n",
        "testAccuracy: 0.352870813397\n",
        "Lambda: 0.0001\n",
        "Train error rate: 0.647099192314\n",
        "Test error rate: 0.647129186603\n",
        "Run time: 1.25831794739\n",
        "\n",
        "\n",
        "trainClassRate:"
       ]
      },
      {
       "output_type": "stream",
       "stream": "stdout",
       "text": [
        " 0.647099192314\n",
        "trainAccuracy: 0.647099192314\n",
        "testClassRate: 0.647129186603\n",
        "testAccuracy: 0.647129186603\n",
        "Lambda: 0.001\n",
        "Train error rate: 0.352900807686\n",
        "Test error rate: 0.352870813397\n",
        "Run time: 1.23868608475\n",
        "\n",
        "\n",
        "trainClassRate:"
       ]
      },
      {
       "output_type": "stream",
       "stream": "stdout",
       "text": [
        " 0.647099192314\n",
        "trainAccuracy: 0.793380140421\n",
        "testClassRate: 0.647129186603\n",
        "testAccuracy: 0.802033492823\n",
        "Lambda: 0.01\n",
        "Train error rate: 0.206619859579\n",
        "Test error rate: 0.197966507177\n",
        "Run time: 1.29968690872\n",
        "\n",
        "\n",
        "trainClassRate:"
       ]
      },
      {
       "output_type": "stream",
       "stream": "stdout",
       "text": [
        " 0.647099192314\n",
        "trainAccuracy: 0.863432402471\n",
        "testClassRate: 0.647129186603\n",
        "testAccuracy: 0.853767942584\n",
        "Lambda: 0.1\n",
        "Train error rate: 0.136567597529\n",
        "Test error rate: 0.146232057416\n",
        "Run time: 1.43340706825\n",
        "\n",
        "\n",
        "trainClassRate:"
       ]
      },
      {
       "output_type": "stream",
       "stream": "stdout",
       "text": [
        " 0.647099192314\n",
        "trainAccuracy: 0.92514385261\n",
        "testClassRate: 0.647129186603\n",
        "testAccuracy: 0.833732057416\n",
        "Lambda: 1\n",
        "Train error rate: 0.0748561473895\n",
        "Test error rate: 0.166267942584\n",
        "Run time: 1.75915384293\n",
        "\n",
        "\n",
        "trainClassRate:"
       ]
      },
      {
       "output_type": "stream",
       "stream": "stdout",
       "text": [
        " 0.647099192314\n",
        "trainAccuracy: 0.947685160745\n",
        "testClassRate: 0.647129186603\n",
        "testAccuracy: 0.801435406699\n",
        "Lambda: 10\n",
        "Train error rate: 0.0523148392546\n",
        "Test error rate: 0.198564593301\n",
        "Run time: 2.93853616714\n",
        "\n",
        "\n",
        "trainClassRate:"
       ]
      },
      {
       "output_type": "stream",
       "stream": "stdout",
       "text": [
        " 0.647099192314\n",
        "trainAccuracy: 0.952172306393\n",
        "testClassRate: 0.647129186603\n",
        "testAccuracy: 0.793660287081\n",
        "Lambda: 100\n",
        "Train error rate: 0.0478276936071\n",
        "Test error rate: 0.206339712919\n",
        "Run time: 4.81246805191\n",
        "\n",
        "\n",
        "trainClassRate:"
       ]
      },
      {
       "output_type": "stream",
       "stream": "stdout",
       "text": [
        " 0.647099192314\n",
        "trainAccuracy: 0.952964155625\n",
        "testClassRate: 0.647129186603\n",
        "testAccuracy: 0.792464114833\n",
        "Lambda: 1000\n",
        "Train error rate: 0.0470358443752\n",
        "Test error rate: 0.207535885167\n",
        "Run time: 5.25349807739\n",
        "\n",
        "\n",
        "trainClassRate:"
       ]
      },
      {
       "output_type": "stream",
       "stream": "stdout",
       "text": [
        " 0.647099192314\n",
        "trainAccuracy: 0.952964155625\n",
        "testClassRate: 0.647129186603\n",
        "testAccuracy: 0.79216507177\n",
        "Lambda: 10000\n",
        "Train error rate: 0.0470358443752\n",
        "Test error rate: 0.20783492823\n",
        "Run time: 4.98162198067\n",
        "\n",
        "\n",
        "trainClassRate:"
       ]
      },
      {
       "output_type": "stream",
       "stream": "stdout",
       "text": [
        " 0.647099192314\n",
        "trainAccuracy: 0.952911365676\n",
        "testClassRate: 0.647129186603\n",
        "testAccuracy: 0.79216507177\n",
        "Lambda: 100000\n",
        "Train error rate: 0.047088634324\n",
        "Test error rate: 0.20783492823\n",
        "Run time: 5.21435308456\n",
        "\n",
        "\n"
       ]
      },
      {
       "metadata": {},
       "output_type": "display_data",
       "png": "[encoded data removed]",
       "text": [
        "<matplotlib.figure.Figure at 0x1344a6f50>"
       ]
      }
     ],
     "prompt_number": 16
    },
    {
     "cell_type": "code",
     "collapsed": false,
     "input": [],
     "language": "python",
     "metadata": {},
     "outputs": []
    }
   ],
   "metadata": {}
  }
 ]
}